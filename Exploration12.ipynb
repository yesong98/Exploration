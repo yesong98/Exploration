{
  "nbformat": 4,
  "nbformat_minor": 0,
  "metadata": {
    "colab": {
      "name": "Exploration12-1.ipynb",
      "provenance": [],
      "collapsed_sections": [],
      "authorship_tag": "ABX9TyPMSs08WvkVmGd3RoCxyXHm",
      "include_colab_link": true
    },
    "kernelspec": {
      "name": "python3",
      "display_name": "Python 3"
    },
    "language_info": {
      "name": "python"
    },
    "accelerator": "GPU",
    "gpuClass": "standard"
  },
  "cells": [
    {
      "cell_type": "markdown",
      "metadata": {
        "id": "view-in-github",
        "colab_type": "text"
      },
      "source": [
        "<a href=\"https://colab.research.google.com/github/yesong98/Exploration/blob/main/Exploration12.ipynb\" target=\"_parent\"><img src=\"https://colab.research.google.com/assets/colab-badge.svg\" alt=\"Open In Colab\"/></a>"
      ]
    },
    {
      "cell_type": "markdown",
      "source": [
        "#  프로젝트: 뉴스기사 요약해보기\n",
        "<루브릭>\n",
        "1. Abstractive 모델 구성을 위한 텍스트 전처리 단계가 체계적으로 진행되었다.  \n",
        "- 분석단계, 정제단계, 정규화와 불용어 제거, 데이터셋 분리, 인코딩 과정이 빠짐없이 체계적으로 진행되었다.  \n",
        "2. 텍스트 요약모델이 성공적으로 학습되었음을 확인하였다.  \n",
        "- 모델 학습이 진행되면서 train loss와 validation loss가 감소하는 경향을 그래프를 통해 확인했으며, 실제 요약문에 있는 핵심 단어들이 요약 문장 안에 포함되었다.  \n",
        "3. Extractive 요약을 시도해 보고 Abstractive 요약 결과과 함께 비교해 보았다.  \n",
        "- 두 요약 결과를 문법완성도 측면과 핵심단어 포함 측면으로 나누어 비교하고 분석 결과를 표로 정리하여 제시하였다.  "
      ],
      "metadata": {
        "id": "iL3jvvWYugro"
      }
    },
    {
      "cell_type": "code",
      "source": [
        "import nltk\n",
        "nltk.download('stopwords')\n",
        "\n",
        "import numpy as np\n",
        "import pandas as pd\n",
        "import os\n",
        "import re\n",
        "import matplotlib.pyplot as plt\n",
        "from nltk.corpus import stopwords\n",
        "from bs4 import BeautifulSoup \n",
        "from tensorflow.keras.preprocessing.text import Tokenizer \n",
        "from tensorflow.keras.preprocessing.sequence import pad_sequences\n",
        "import urllib.request\n",
        "import warnings\n",
        "warnings.filterwarnings(\"ignore\", category=UserWarning, module='bs4')\n",
        "\n",
        "from google.colab import drive\n",
        "drive.mount('/content/drive')\n"
      ],
      "metadata": {
        "colab": {
          "base_uri": "https://localhost:8080/"
        },
        "id": "AXa8C9xBxNuH",
        "outputId": "f5b9369d-1ab1-4269-dd3a-3ae5ac6af9e2"
      },
      "execution_count": 4,
      "outputs": [
        {
          "output_type": "stream",
          "name": "stderr",
          "text": [
            "[nltk_data] Downloading package stopwords to /root/nltk_data...\n",
            "[nltk_data]   Unzipping corpora/stopwords.zip.\n"
          ]
        },
        {
          "output_type": "stream",
          "name": "stdout",
          "text": [
            "Mounted at /content/drive\n"
          ]
        }
      ]
    },
    {
      "cell_type": "markdown",
      "source": [
        "# Step 1. 데이터 수집하기\n",
        "데이터는 아래 링크에 있는 뉴스 기사 데이터(news_summary_more.csv)를 사용하세요."
      ],
      "metadata": {
        "id": "JtwW0jpdupaD"
      }
    },
    {
      "cell_type": "code",
      "source": [
        "import urllib.request\n",
        "urllib.request.urlretrieve(\"https://raw.githubusercontent.com/sunnysai12345/News_Summary/master/news_summary_more.csv\", filename=\"news_summary_more.csv\")\n",
        "data = pd.read_csv('news_summary_more.csv', encoding='iso-8859-1')"
      ],
      "metadata": {
        "id": "L8XMmrMkhRAx"
      },
      "execution_count": 2,
      "outputs": []
    },
    {
      "cell_type": "code",
      "source": [
        "data.sample(10)\n"
      ],
      "metadata": {
        "id": "FmJUsCrghTkG",
        "colab": {
          "base_uri": "https://localhost:8080/",
          "height": 363
        },
        "outputId": "54b0068a-7b1d-43c1-8d4b-c3150a8524b6"
      },
      "execution_count": 3,
      "outputs": [
        {
          "output_type": "execute_result",
          "data": {
            "text/plain": [
              "                                               headlines  \\\n",
              "19832  Asiad gold winner Vinesh Phogat gets engaged a...   \n",
              "87928  India's population has overtaken China's: Chin...   \n",
              "30672  Zomato appoints former GE exec Sameer Maheshwa...   \n",
              "59828  Union Cabinet approves hike in salary for SC, ...   \n",
              "57647  Candlelight vigil held in Peshawar to honour S...   \n",
              "65491  Shraddha trolled for requesting firecrackers-f...   \n",
              "66561  White tiger cubs kill caretaker at K'taka Biol...   \n",
              "49570  School principal's car runs over students in T...   \n",
              "78240         North Korea conducts new ICBM missile test   \n",
              "19347  Kohli takes 1 innings fewer than Sachin to rea...   \n",
              "\n",
              "                                                    text  \n",
              "19832  Vinesh Phogat, who recently became the first I...  \n",
              "87928  India has overtaken China to become the world'...  \n",
              "30672  Online restaurant discovery and food-delivery ...  \n",
              "59828  The Union Cabinet has approved a proposal to h...  \n",
              "57647  A group of people in Pakistan's Peshawar held ...  \n",
              "65491  Actress Shraddha Kapoor has been trolled for u...  \n",
              "66561  A 41-year-old caretaker at Karnataka's Bannerg...  \n",
              "49570  A student was killed and two others were injur...  \n",
              "78240  North Korea conducted a new intercontinental b...  \n",
              "19347  India captain Virat Kohli completed 6,000 runs...  "
            ],
            "text/html": [
              "\n",
              "  <div id=\"df-d82e6bc5-dd08-473d-8f3f-08a2d36d93b4\">\n",
              "    <div class=\"colab-df-container\">\n",
              "      <div>\n",
              "<style scoped>\n",
              "    .dataframe tbody tr th:only-of-type {\n",
              "        vertical-align: middle;\n",
              "    }\n",
              "\n",
              "    .dataframe tbody tr th {\n",
              "        vertical-align: top;\n",
              "    }\n",
              "\n",
              "    .dataframe thead th {\n",
              "        text-align: right;\n",
              "    }\n",
              "</style>\n",
              "<table border=\"1\" class=\"dataframe\">\n",
              "  <thead>\n",
              "    <tr style=\"text-align: right;\">\n",
              "      <th></th>\n",
              "      <th>headlines</th>\n",
              "      <th>text</th>\n",
              "    </tr>\n",
              "  </thead>\n",
              "  <tbody>\n",
              "    <tr>\n",
              "      <th>19832</th>\n",
              "      <td>Asiad gold winner Vinesh Phogat gets engaged a...</td>\n",
              "      <td>Vinesh Phogat, who recently became the first I...</td>\n",
              "    </tr>\n",
              "    <tr>\n",
              "      <th>87928</th>\n",
              "      <td>India's population has overtaken China's: Chin...</td>\n",
              "      <td>India has overtaken China to become the world'...</td>\n",
              "    </tr>\n",
              "    <tr>\n",
              "      <th>30672</th>\n",
              "      <td>Zomato appoints former GE exec Sameer Maheshwa...</td>\n",
              "      <td>Online restaurant discovery and food-delivery ...</td>\n",
              "    </tr>\n",
              "    <tr>\n",
              "      <th>59828</th>\n",
              "      <td>Union Cabinet approves hike in salary for SC, ...</td>\n",
              "      <td>The Union Cabinet has approved a proposal to h...</td>\n",
              "    </tr>\n",
              "    <tr>\n",
              "      <th>57647</th>\n",
              "      <td>Candlelight vigil held in Peshawar to honour S...</td>\n",
              "      <td>A group of people in Pakistan's Peshawar held ...</td>\n",
              "    </tr>\n",
              "    <tr>\n",
              "      <th>65491</th>\n",
              "      <td>Shraddha trolled for requesting firecrackers-f...</td>\n",
              "      <td>Actress Shraddha Kapoor has been trolled for u...</td>\n",
              "    </tr>\n",
              "    <tr>\n",
              "      <th>66561</th>\n",
              "      <td>White tiger cubs kill caretaker at K'taka Biol...</td>\n",
              "      <td>A 41-year-old caretaker at Karnataka's Bannerg...</td>\n",
              "    </tr>\n",
              "    <tr>\n",
              "      <th>49570</th>\n",
              "      <td>School principal's car runs over students in T...</td>\n",
              "      <td>A student was killed and two others were injur...</td>\n",
              "    </tr>\n",
              "    <tr>\n",
              "      <th>78240</th>\n",
              "      <td>North Korea conducts new ICBM missile test</td>\n",
              "      <td>North Korea conducted a new intercontinental b...</td>\n",
              "    </tr>\n",
              "    <tr>\n",
              "      <th>19347</th>\n",
              "      <td>Kohli takes 1 innings fewer than Sachin to rea...</td>\n",
              "      <td>India captain Virat Kohli completed 6,000 runs...</td>\n",
              "    </tr>\n",
              "  </tbody>\n",
              "</table>\n",
              "</div>\n",
              "      <button class=\"colab-df-convert\" onclick=\"convertToInteractive('df-d82e6bc5-dd08-473d-8f3f-08a2d36d93b4')\"\n",
              "              title=\"Convert this dataframe to an interactive table.\"\n",
              "              style=\"display:none;\">\n",
              "        \n",
              "  <svg xmlns=\"http://www.w3.org/2000/svg\" height=\"24px\"viewBox=\"0 0 24 24\"\n",
              "       width=\"24px\">\n",
              "    <path d=\"M0 0h24v24H0V0z\" fill=\"none\"/>\n",
              "    <path d=\"M18.56 5.44l.94 2.06.94-2.06 2.06-.94-2.06-.94-.94-2.06-.94 2.06-2.06.94zm-11 1L8.5 8.5l.94-2.06 2.06-.94-2.06-.94L8.5 2.5l-.94 2.06-2.06.94zm10 10l.94 2.06.94-2.06 2.06-.94-2.06-.94-.94-2.06-.94 2.06-2.06.94z\"/><path d=\"M17.41 7.96l-1.37-1.37c-.4-.4-.92-.59-1.43-.59-.52 0-1.04.2-1.43.59L10.3 9.45l-7.72 7.72c-.78.78-.78 2.05 0 2.83L4 21.41c.39.39.9.59 1.41.59.51 0 1.02-.2 1.41-.59l7.78-7.78 2.81-2.81c.8-.78.8-2.07 0-2.86zM5.41 20L4 18.59l7.72-7.72 1.47 1.35L5.41 20z\"/>\n",
              "  </svg>\n",
              "      </button>\n",
              "      \n",
              "  <style>\n",
              "    .colab-df-container {\n",
              "      display:flex;\n",
              "      flex-wrap:wrap;\n",
              "      gap: 12px;\n",
              "    }\n",
              "\n",
              "    .colab-df-convert {\n",
              "      background-color: #E8F0FE;\n",
              "      border: none;\n",
              "      border-radius: 50%;\n",
              "      cursor: pointer;\n",
              "      display: none;\n",
              "      fill: #1967D2;\n",
              "      height: 32px;\n",
              "      padding: 0 0 0 0;\n",
              "      width: 32px;\n",
              "    }\n",
              "\n",
              "    .colab-df-convert:hover {\n",
              "      background-color: #E2EBFA;\n",
              "      box-shadow: 0px 1px 2px rgba(60, 64, 67, 0.3), 0px 1px 3px 1px rgba(60, 64, 67, 0.15);\n",
              "      fill: #174EA6;\n",
              "    }\n",
              "\n",
              "    [theme=dark] .colab-df-convert {\n",
              "      background-color: #3B4455;\n",
              "      fill: #D2E3FC;\n",
              "    }\n",
              "\n",
              "    [theme=dark] .colab-df-convert:hover {\n",
              "      background-color: #434B5C;\n",
              "      box-shadow: 0px 1px 3px 1px rgba(0, 0, 0, 0.15);\n",
              "      filter: drop-shadow(0px 1px 2px rgba(0, 0, 0, 0.3));\n",
              "      fill: #FFFFFF;\n",
              "    }\n",
              "  </style>\n",
              "\n",
              "      <script>\n",
              "        const buttonEl =\n",
              "          document.querySelector('#df-d82e6bc5-dd08-473d-8f3f-08a2d36d93b4 button.colab-df-convert');\n",
              "        buttonEl.style.display =\n",
              "          google.colab.kernel.accessAllowed ? 'block' : 'none';\n",
              "\n",
              "        async function convertToInteractive(key) {\n",
              "          const element = document.querySelector('#df-d82e6bc5-dd08-473d-8f3f-08a2d36d93b4');\n",
              "          const dataTable =\n",
              "            await google.colab.kernel.invokeFunction('convertToInteractive',\n",
              "                                                     [key], {});\n",
              "          if (!dataTable) return;\n",
              "\n",
              "          const docLinkHtml = 'Like what you see? Visit the ' +\n",
              "            '<a target=\"_blank\" href=https://colab.research.google.com/notebooks/data_table.ipynb>data table notebook</a>'\n",
              "            + ' to learn more about interactive tables.';\n",
              "          element.innerHTML = '';\n",
              "          dataTable['output_type'] = 'display_data';\n",
              "          await google.colab.output.renderOutput(dataTable, element);\n",
              "          const docLink = document.createElement('div');\n",
              "          docLink.innerHTML = docLinkHtml;\n",
              "          element.appendChild(docLink);\n",
              "        }\n",
              "      </script>\n",
              "    </div>\n",
              "  </div>\n",
              "  "
            ]
          },
          "metadata": {},
          "execution_count": 3
        }
      ]
    },
    {
      "cell_type": "markdown",
      "source": [
        "# Step 2. 데이터 전처리하기 (추상적 요약)\n",
        "실습에서 사용된 전처리를 참고하여 각자 필요하다고 생각하는 전처리를 추가 사용하여 텍스트를 정규화 또는 정제해 보세요. 만약, 불용어 제거를 선택한다면 상대적으로 길이가 짧은 요약 데이터에 대해서도 불용어를 제거하는 것이 좋을지 고민해 보세요.\n",
        "### 전처리"
      ],
      "metadata": {
        "id": "9QYdGc8Supc2"
      }
    },
    {
      "cell_type": "code",
      "source": [
        "print('text 열에서 중복을 배제한 유일한 샘플의 수 :', data['text'].nunique())\n",
        "print('headlines 열에서 중복을 배제한 유일한 샘플의 수 :', data['headlines'].nunique())\n",
        "\n",
        "# inplace=True 를 설정하면 DataFrame 타입 값을 return 하지 않고 data 내부를 직접적으로 바꿉니다\n",
        "data.drop_duplicates(subset = ['text'], inplace=True)\n",
        "print('전체 샘플수 :', (len(data)))"
      ],
      "metadata": {
        "id": "b1zQZ-dBhnP5",
        "colab": {
          "base_uri": "https://localhost:8080/"
        },
        "outputId": "248c7c98-ab7d-4912-ed8a-c758a23139ea"
      },
      "execution_count": 4,
      "outputs": [
        {
          "output_type": "stream",
          "name": "stdout",
          "text": [
            "text 열에서 중복을 배제한 유일한 샘플의 수 : 98360\n",
            "headlines 열에서 중복을 배제한 유일한 샘플의 수 : 98280\n",
            "전체 샘플수 : 98360\n"
          ]
        }
      ]
    },
    {
      "cell_type": "code",
      "source": [
        "print(data.isnull().sum())\n",
        "data.dropna(axis=0, inplace=True)\n",
        "print('전체 샘플수 :', (len(data)))"
      ],
      "metadata": {
        "id": "QMjDvMkZh_Kv",
        "colab": {
          "base_uri": "https://localhost:8080/"
        },
        "outputId": "d9432461-4a17-4ef3-bf4c-48ddc26188ef"
      },
      "execution_count": 5,
      "outputs": [
        {
          "output_type": "stream",
          "name": "stdout",
          "text": [
            "headlines    0\n",
            "text         0\n",
            "dtype: int64\n",
            "전체 샘플수 : 98360\n"
          ]
        }
      ]
    },
    {
      "cell_type": "markdown",
      "source": [
        "### 불용어 제거, 정규화"
      ],
      "metadata": {
        "id": "lGxWjoPsiW8R"
      }
    },
    {
      "cell_type": "code",
      "source": [
        "contractions = {\"ain't\": \"is not\", \"aren't\": \"are not\",\"can't\": \"cannot\", \"'cause\": \"because\", \"could've\": \"could have\", \"couldn't\": \"could not\",\n",
        "                           \"didn't\": \"did not\",  \"doesn't\": \"does not\", \"don't\": \"do not\", \"hadn't\": \"had not\", \"hasn't\": \"has not\", \"haven't\": \"have not\",\n",
        "                           \"he'd\": \"he would\",\"he'll\": \"he will\", \"he's\": \"he is\", \"how'd\": \"how did\", \"how'd'y\": \"how do you\", \"how'll\": \"how will\", \"how's\": \"how is\",\n",
        "                           \"I'd\": \"I would\", \"I'd've\": \"I would have\", \"I'll\": \"I will\", \"I'll've\": \"I will have\",\"I'm\": \"I am\", \"I've\": \"I have\", \"i'd\": \"i would\",\n",
        "                           \"i'd've\": \"i would have\", \"i'll\": \"i will\",  \"i'll've\": \"i will have\",\"i'm\": \"i am\", \"i've\": \"i have\", \"isn't\": \"is not\", \"it'd\": \"it would\",\n",
        "                           \"it'd've\": \"it would have\", \"it'll\": \"it will\", \"it'll've\": \"it will have\",\"it's\": \"it is\", \"let's\": \"let us\", \"ma'am\": \"madam\",\n",
        "                           \"mayn't\": \"may not\", \"might've\": \"might have\",\"mightn't\": \"might not\",\"mightn't've\": \"might not have\", \"must've\": \"must have\",\n",
        "                           \"mustn't\": \"must not\", \"mustn't've\": \"must not have\", \"needn't\": \"need not\", \"needn't've\": \"need not have\",\"o'clock\": \"of the clock\",\n",
        "                           \"oughtn't\": \"ought not\", \"oughtn't've\": \"ought not have\", \"shan't\": \"shall not\", \"sha'n't\": \"shall not\", \"shan't've\": \"shall not have\",\n",
        "                           \"she'd\": \"she would\", \"she'd've\": \"she would have\", \"she'll\": \"she will\", \"she'll've\": \"she will have\", \"she's\": \"she is\",\n",
        "                           \"should've\": \"should have\", \"shouldn't\": \"should not\", \"shouldn't've\": \"should not have\", \"so've\": \"so have\",\"so's\": \"so as\",\n",
        "                           \"this's\": \"this is\",\"that'd\": \"that would\", \"that'd've\": \"that would have\", \"that's\": \"that is\", \"there'd\": \"there would\",\n",
        "                           \"there'd've\": \"there would have\", \"there's\": \"there is\", \"here's\": \"here is\",\"they'd\": \"they would\", \"they'd've\": \"they would have\",\n",
        "                           \"they'll\": \"they will\", \"they'll've\": \"they will have\", \"they're\": \"they are\", \"they've\": \"they have\", \"to've\": \"to have\",\n",
        "                           \"wasn't\": \"was not\", \"we'd\": \"we would\", \"we'd've\": \"we would have\", \"we'll\": \"we will\", \"we'll've\": \"we will have\", \"we're\": \"we are\",\n",
        "                           \"we've\": \"we have\", \"weren't\": \"were not\", \"what'll\": \"what will\", \"what'll've\": \"what will have\", \"what're\": \"what are\",\n",
        "                           \"what's\": \"what is\", \"what've\": \"what have\", \"when's\": \"when is\", \"when've\": \"when have\", \"where'd\": \"where did\", \"where's\": \"where is\",\n",
        "                           \"where've\": \"where have\", \"who'll\": \"who will\", \"who'll've\": \"who will have\", \"who's\": \"who is\", \"who've\": \"who have\",\n",
        "                           \"why's\": \"why is\", \"why've\": \"why have\", \"will've\": \"will have\", \"won't\": \"will not\", \"won't've\": \"will not have\",\n",
        "                           \"would've\": \"would have\", \"wouldn't\": \"would not\", \"wouldn't've\": \"would not have\", \"y'all\": \"you all\",\n",
        "                           \"y'all'd\": \"you all would\",\"y'all'd've\": \"you all would have\",\"y'all're\": \"you all are\",\"y'all've\": \"you all have\",\n",
        "                           \"you'd\": \"you would\", \"you'd've\": \"you would have\", \"you'll\": \"you will\", \"you'll've\": \"you will have\",\n",
        "                           \"you're\": \"you are\", \"you've\": \"you have\"}\n",
        "\n",
        "print(\"정규화 사전의 수: \", len(contractions))\n",
        "print('불용어 개수 :', len(stopwords.words('english') ))\n",
        "print(stopwords.words('english'))"
      ],
      "metadata": {
        "id": "0QhOTaINh_RE",
        "colab": {
          "base_uri": "https://localhost:8080/"
        },
        "outputId": "6ea1a9ce-7fda-4e75-a509-610c0b40a813"
      },
      "execution_count": 6,
      "outputs": [
        {
          "output_type": "stream",
          "name": "stdout",
          "text": [
            "정규화 사전의 수:  120\n",
            "불용어 개수 : 179\n",
            "['i', 'me', 'my', 'myself', 'we', 'our', 'ours', 'ourselves', 'you', \"you're\", \"you've\", \"you'll\", \"you'd\", 'your', 'yours', 'yourself', 'yourselves', 'he', 'him', 'his', 'himself', 'she', \"she's\", 'her', 'hers', 'herself', 'it', \"it's\", 'its', 'itself', 'they', 'them', 'their', 'theirs', 'themselves', 'what', 'which', 'who', 'whom', 'this', 'that', \"that'll\", 'these', 'those', 'am', 'is', 'are', 'was', 'were', 'be', 'been', 'being', 'have', 'has', 'had', 'having', 'do', 'does', 'did', 'doing', 'a', 'an', 'the', 'and', 'but', 'if', 'or', 'because', 'as', 'until', 'while', 'of', 'at', 'by', 'for', 'with', 'about', 'against', 'between', 'into', 'through', 'during', 'before', 'after', 'above', 'below', 'to', 'from', 'up', 'down', 'in', 'out', 'on', 'off', 'over', 'under', 'again', 'further', 'then', 'once', 'here', 'there', 'when', 'where', 'why', 'how', 'all', 'any', 'both', 'each', 'few', 'more', 'most', 'other', 'some', 'such', 'no', 'nor', 'not', 'only', 'own', 'same', 'so', 'than', 'too', 'very', 's', 't', 'can', 'will', 'just', 'don', \"don't\", 'should', \"should've\", 'now', 'd', 'll', 'm', 'o', 're', 've', 'y', 'ain', 'aren', \"aren't\", 'couldn', \"couldn't\", 'didn', \"didn't\", 'doesn', \"doesn't\", 'hadn', \"hadn't\", 'hasn', \"hasn't\", 'haven', \"haven't\", 'isn', \"isn't\", 'ma', 'mightn', \"mightn't\", 'mustn', \"mustn't\", 'needn', \"needn't\", 'shan', \"shan't\", 'shouldn', \"shouldn't\", 'wasn', \"wasn't\", 'weren', \"weren't\", 'won', \"won't\", 'wouldn', \"wouldn't\"]\n"
          ]
        }
      ]
    },
    {
      "cell_type": "code",
      "source": [
        "# 데이터 전처리 함수\n",
        "def preprocess_sentence(sentence, remove_stopwords=True):\n",
        "    sentence = sentence.lower() # 텍스트 소문자화\n",
        "    sentence = BeautifulSoup(sentence, \"lxml\").text # <br />, <a href = ...> 등의 html 태그 제거\n",
        "    sentence = re.sub(r'\\([^)]*\\)', '', sentence) # 괄호로 닫힌 문자열 (...) 제거 Ex) my husband (and myself!) for => my husband for\n",
        "    sentence = re.sub('\"','', sentence) # 쌍따옴표 \" 제거\n",
        "    sentence = ' '.join([contractions[t] if t in contractions else t for t in sentence.split(\" \")]) # 약어 정규화\n",
        "    sentence = re.sub(r\"'s\\b\",\"\", sentence) # 소유격 제거. Ex) roland's -> roland\n",
        "    sentence = re.sub(\"[^a-zA-Z]\", \" \", sentence) # 영어 외 문자(숫자, 특수문자 등) 공백으로 변환\n",
        "    sentence = re.sub('[m]{2,}', 'mm', sentence) # m이 3개 이상이면 2개로 변경. Ex) ummmmmmm yeah -> umm yeah\n",
        "    \n",
        "    # 불용어 제거 (Text)\n",
        "    if remove_stopwords:\n",
        "        tokens = ' '.join(word for word in sentence.split() if not word in stopwords.words('english') if len(word) > 1)\n",
        "    # 불용어 미제거 (Headlines)\n",
        "    else:\n",
        "        tokens = ' '.join(word for word in sentence.split() if len(word) > 1)\n",
        "    return tokens"
      ],
      "metadata": {
        "id": "N7DTgKLKh_Uw"
      },
      "execution_count": 7,
      "outputs": []
    },
    {
      "cell_type": "code",
      "source": [
        "#훈련 데이터 전체에 대해 전처리\n",
        "clean_text = []\n",
        "# 전체 Text 데이터에 대한 전처리 : 10분 이상 시간이 걸릴 수 있습니다. \n",
        "for s in data['text']:\n",
        "    clean_text.append(preprocess_sentence(s))\n",
        "\n",
        "# 전처리 후 상위 5개의 줄 출력\n",
        "print(\"Text 전처리 후 결과: \", clean_text[:5])\n",
        "\n",
        "clean_headlines = []\n",
        "# 전체 headlines 데이터에 대한 전처리 : 5분 이상 시간이 걸릴 수 있습니다. \n",
        "for s in data['headlines']:\n",
        "    clean_headlines.append(preprocess_sentence(s, False))\n",
        "\n",
        "print(\"headlines 전처리 후 결과: \", clean_headlines[:5])"
      ],
      "metadata": {
        "id": "CFIBhoxIig6K",
        "colab": {
          "base_uri": "https://localhost:8080/"
        },
        "outputId": "a3c1f04d-dad1-4755-cce9-78d4e6eb7b29"
      },
      "execution_count": 8,
      "outputs": [
        {
          "output_type": "stream",
          "name": "stdout",
          "text": [
            "Text 전처리 후 결과:  ['saurav kant alumnus upgrad iiit pg program machine learning artificial intelligence sr systems engineer infosys almost years work experience program upgrad degree career support helped transition data scientist tech mahindra salary hike upgrad online power learning powered lakh careers', 'kunal shah credit card bill payment platform cred gave users chance win free food swiggy one year pranav kaushik delhi techie bagged reward spending cred coins users get one cred coin per rupee bill paid used avail rewards brands like ixigo bookmyshow ubereats cult fit', 'new zealand defeated india wickets fourth odi hamilton thursday win first match five match odi series india lost international match rohit sharma captaincy consecutive victories dating back march match witnessed india getting seventh lowest total odi cricket history', 'aegon life iterm insurance plan customers enjoy tax benefits premiums paid save taxes plan provides life cover age years also customers options insure critical illnesses disability accidental death benefit rider life cover age years', 'speaking sexual harassment allegations rajkumar hirani sonam kapoor said known hirani many years true metoo movement get derailed metoo movement always believe woman case need reserve judgment added hirani accused assistant worked sanju']\n",
            "headlines 전처리 후 결과:  ['upgrad learner switches to career in ml al with salary hike', 'delhi techie wins free food from swiggy for one year on cred', 'new zealand end rohit sharma led india match winning streak', 'aegon life iterm insurance plan helps customers save tax', 'have known hirani for yrs what if metoo claims are not true sonam']\n"
          ]
        }
      ]
    },
    {
      "cell_type": "code",
      "source": [
        "data['text'] = clean_text\n",
        "data['headlines'] = clean_headlines\n",
        "\n",
        "# 빈 값을 Null 값으로 변환\n",
        "data.replace('', np.nan, inplace=True)"
      ],
      "metadata": {
        "id": "YIKdaD3HiiWn"
      },
      "execution_count": 9,
      "outputs": []
    },
    {
      "cell_type": "code",
      "source": [
        "#Null값 확인\n",
        "data.isnull().sum()"
      ],
      "metadata": {
        "id": "KvyndUptiiZE",
        "colab": {
          "base_uri": "https://localhost:8080/"
        },
        "outputId": "eca44748-601a-4bbd-eea6-689208c3d70a"
      },
      "execution_count": 10,
      "outputs": [
        {
          "output_type": "execute_result",
          "data": {
            "text/plain": [
              "headlines    0\n",
              "text         0\n",
              "dtype: int64"
            ]
          },
          "metadata": {},
          "execution_count": 10
        }
      ]
    },
    {
      "cell_type": "code",
      "source": [
        "#빈 샘플 제거\n",
        "data.dropna(axis=0, inplace=True)\n",
        "print('전체 샘플수 :', (len(data)))"
      ],
      "metadata": {
        "id": "5SczSciyiwnU",
        "colab": {
          "base_uri": "https://localhost:8080/"
        },
        "outputId": "52838f02-156c-4c2a-8720-ee05eb5ace86"
      },
      "execution_count": 11,
      "outputs": [
        {
          "output_type": "stream",
          "name": "stdout",
          "text": [
            "전체 샘플수 : 98360\n"
          ]
        }
      ]
    },
    {
      "cell_type": "markdown",
      "source": [
        "### 데이터 분리\n",
        "- 샘플의 최대 길이"
      ],
      "metadata": {
        "id": "uhAZaA4djMRk"
      }
    },
    {
      "cell_type": "code",
      "source": [
        "# 길이 분포 출력\n",
        "import matplotlib.pyplot as plt\n",
        "\n",
        "text_len = [len(s.split()) for s in data['text']]\n",
        "headlines_len = [len(s.split()) for s in data['headlines']]\n",
        "\n",
        "print('텍스트의 최소 길이 : {}'.format(np.min(text_len)))\n",
        "print('텍스트의 최대 길이 : {}'.format(np.max(text_len)))\n",
        "print('텍스트의 평균 길이 : {}'.format(np.mean(text_len)))\n",
        "print('헤드라인의 최소 길이 : {}'.format(np.min(headlines_len)))\n",
        "print('헤드라인의 최대 길이 : {}'.format(np.max(headlines_len)))\n",
        "print('헤드라인의 평균 길이 : {}'.format(np.mean(headlines_len)))\n",
        "\n",
        "plt.subplot(1,2,1)\n",
        "plt.boxplot(text_len)\n",
        "plt.title('text')\n",
        "plt.subplot(1,2,2)\n",
        "plt.boxplot(headlines_len)\n",
        "plt.title('headlines')\n",
        "plt.tight_layout()\n",
        "plt.show()\n",
        "\n",
        "plt.title('text')\n",
        "plt.hist(text_len, bins = 40)\n",
        "plt.xlabel('length of samples')\n",
        "plt.ylabel('number of samples')\n",
        "plt.show()\n",
        "\n",
        "plt.title('headlines')\n",
        "plt.hist(headlines_len, bins = 40)\n",
        "plt.xlabel('length of samples')\n",
        "plt.ylabel('number of samples')\n",
        "plt.show()"
      ],
      "metadata": {
        "id": "1bkV4T97jL46",
        "colab": {
          "base_uri": "https://localhost:8080/",
          "height": 960
        },
        "outputId": "8ad8dae6-9e4e-41e3-c628-0940d1ec82c8"
      },
      "execution_count": 12,
      "outputs": [
        {
          "output_type": "stream",
          "name": "stdout",
          "text": [
            "텍스트의 최소 길이 : 1\n",
            "텍스트의 최대 길이 : 60\n",
            "텍스트의 평균 길이 : 35.09968483123221\n",
            "헤드라인의 최소 길이 : 1\n",
            "헤드라인의 최대 길이 : 16\n",
            "헤드라인의 평균 길이 : 9.299532330215534\n"
          ]
        },
        {
          "output_type": "display_data",
          "data": {
            "text/plain": [
              "<Figure size 432x288 with 2 Axes>"
            ],
            "image/png": "[encoded data removed]"
          },
          "metadata": {
            "needs_background": "light"
          }
        },
        {
          "output_type": "display_data",
          "data": {
            "text/plain": [
              "<Figure size 432x288 with 1 Axes>"
            ],
            "image/png": "[encoded data removed]"
          },
          "metadata": {
            "needs_background": "light"
          }
        },
        {
          "output_type": "display_data",
          "data": {
            "text/plain": [
              "<Figure size 432x288 with 1 Axes>"
            ],
            "image/png": "[encoded data removed]"
          },
          "metadata": {
            "needs_background": "light"
          }
        }
      ]
    },
    {
      "cell_type": "code",
      "source": [
        "#Text의 최대 길이와 Headlines의 적절한 최대 길이 임의로 정하기\n",
        "text_max_len = 60  #텍스트의 최대 길이\n",
        "headlines_max_len = 16  #헤드라인의 최대 길이"
      ],
      "metadata": {
        "id": "zXN9CThLlEku"
      },
      "execution_count": 13,
      "outputs": []
    },
    {
      "cell_type": "code",
      "source": [
        "def below_threshold_len(max_len, nested_list):\n",
        "    cnt = 0\n",
        "    for s in nested_list:\n",
        "        if(len(s.split()) <= max_len):\n",
        "            cnt = cnt + 1\n",
        "    print('전체 샘플 중 길이가 %s 이하인 샘플의 비율: %s'%(max_len, (cnt / len(nested_list))))"
      ],
      "metadata": {
        "id": "cyzRAbMhlGvW"
      },
      "execution_count": 14,
      "outputs": []
    },
    {
      "cell_type": "code",
      "source": [
        "below_threshold_len(text_max_len, data['text'])\n",
        "below_threshold_len(headlines_max_len,  data['headlines'])"
      ],
      "metadata": {
        "id": "z6tHojwolJ1J",
        "colab": {
          "base_uri": "https://localhost:8080/"
        },
        "outputId": "8bcd3bc5-ef97-4000-9e28-0399d7108e67"
      },
      "execution_count": 15,
      "outputs": [
        {
          "output_type": "stream",
          "name": "stdout",
          "text": [
            "전체 샘플 중 길이가 60 이하인 샘플의 비율: 1.0\n",
            "전체 샘플 중 길이가 16 이하인 샘플의 비율: 1.0\n"
          ]
        }
      ]
    },
    {
      "cell_type": "code",
      "source": [
        "data = data[data['text'].apply(lambda x: len(x.split()) <= text_max_len)]\n",
        "data = data[data['headlines'].apply(lambda x: len(x.split()) <= headlines_max_len)]\n",
        "print('전체 샘플수 :', (len(data)))"
      ],
      "metadata": {
        "id": "O4T4sfpBlMWH",
        "colab": {
          "base_uri": "https://localhost:8080/"
        },
        "outputId": "b279a25b-f153-4877-b5d3-b5ad34c264a5"
      },
      "execution_count": 16,
      "outputs": [
        {
          "output_type": "stream",
          "name": "stdout",
          "text": [
            "전체 샘플수 : 98360\n"
          ]
        }
      ]
    },
    {
      "cell_type": "markdown",
      "source": [
        "### 시작토큰, 종료토큰 정하기\n"
      ],
      "metadata": {
        "id": "LedSalynjVHB"
      }
    },
    {
      "cell_type": "code",
      "source": [
        "# 요약 데이터에는 시작 토큰과 종료 토큰을 추가한다.\n",
        "data['decoder_input'] = data['headlines'].apply(lambda x : 'sostoken '+ x)\n",
        "data['decoder_target'] = data['headlines'].apply(lambda x : x + ' eostoken')\n",
        "data.head()"
      ],
      "metadata": {
        "id": "TQ1TgAxcjk-1",
        "colab": {
          "base_uri": "https://localhost:8080/",
          "height": 337
        },
        "outputId": "1839806e-e2df-462b-90c6-005a7a693b41"
      },
      "execution_count": 17,
      "outputs": [
        {
          "output_type": "execute_result",
          "data": {
            "text/plain": [
              "                                           headlines  \\\n",
              "0  upgrad learner switches to career in ml al wit...   \n",
              "1  delhi techie wins free food from swiggy for on...   \n",
              "2  new zealand end rohit sharma led india match w...   \n",
              "3  aegon life iterm insurance plan helps customer...   \n",
              "4  have known hirani for yrs what if metoo claims...   \n",
              "\n",
              "                                                text  \\\n",
              "0  saurav kant alumnus upgrad iiit pg program mac...   \n",
              "1  kunal shah credit card bill payment platform c...   \n",
              "2  new zealand defeated india wickets fourth odi ...   \n",
              "3  aegon life iterm insurance plan customers enjo...   \n",
              "4  speaking sexual harassment allegations rajkuma...   \n",
              "\n",
              "                                       decoder_input  \\\n",
              "0  sostoken upgrad learner switches to career in ...   \n",
              "1  sostoken delhi techie wins free food from swig...   \n",
              "2  sostoken new zealand end rohit sharma led indi...   \n",
              "3  sostoken aegon life iterm insurance plan helps...   \n",
              "4  sostoken have known hirani for yrs what if met...   \n",
              "\n",
              "                                      decoder_target  \n",
              "0  upgrad learner switches to career in ml al wit...  \n",
              "1  delhi techie wins free food from swiggy for on...  \n",
              "2  new zealand end rohit sharma led india match w...  \n",
              "3  aegon life iterm insurance plan helps customer...  \n",
              "4  have known hirani for yrs what if metoo claims...  "
            ],
            "text/html": [
              "\n",
              "  <div id=\"df-53daba8a-6bbb-49c3-8fe8-76e0f6054b34\">\n",
              "    <div class=\"colab-df-container\">\n",
              "      <div>\n",
              "<style scoped>\n",
              "    .dataframe tbody tr th:only-of-type {\n",
              "        vertical-align: middle;\n",
              "    }\n",
              "\n",
              "    .dataframe tbody tr th {\n",
              "        vertical-align: top;\n",
              "    }\n",
              "\n",
              "    .dataframe thead th {\n",
              "        text-align: right;\n",
              "    }\n",
              "</style>\n",
              "<table border=\"1\" class=\"dataframe\">\n",
              "  <thead>\n",
              "    <tr style=\"text-align: right;\">\n",
              "      <th></th>\n",
              "      <th>headlines</th>\n",
              "      <th>text</th>\n",
              "      <th>decoder_input</th>\n",
              "      <th>decoder_target</th>\n",
              "    </tr>\n",
              "  </thead>\n",
              "  <tbody>\n",
              "    <tr>\n",
              "      <th>0</th>\n",
              "      <td>upgrad learner switches to career in ml al wit...</td>\n",
              "      <td>saurav kant alumnus upgrad iiit pg program mac...</td>\n",
              "      <td>sostoken upgrad learner switches to career in ...</td>\n",
              "      <td>upgrad learner switches to career in ml al wit...</td>\n",
              "    </tr>\n",
              "    <tr>\n",
              "      <th>1</th>\n",
              "      <td>delhi techie wins free food from swiggy for on...</td>\n",
              "      <td>kunal shah credit card bill payment platform c...</td>\n",
              "      <td>sostoken delhi techie wins free food from swig...</td>\n",
              "      <td>delhi techie wins free food from swiggy for on...</td>\n",
              "    </tr>\n",
              "    <tr>\n",
              "      <th>2</th>\n",
              "      <td>new zealand end rohit sharma led india match w...</td>\n",
              "      <td>new zealand defeated india wickets fourth odi ...</td>\n",
              "      <td>sostoken new zealand end rohit sharma led indi...</td>\n",
              "      <td>new zealand end rohit sharma led india match w...</td>\n",
              "    </tr>\n",
              "    <tr>\n",
              "      <th>3</th>\n",
              "      <td>aegon life iterm insurance plan helps customer...</td>\n",
              "      <td>aegon life iterm insurance plan customers enjo...</td>\n",
              "      <td>sostoken aegon life iterm insurance plan helps...</td>\n",
              "      <td>aegon life iterm insurance plan helps customer...</td>\n",
              "    </tr>\n",
              "    <tr>\n",
              "      <th>4</th>\n",
              "      <td>have known hirani for yrs what if metoo claims...</td>\n",
              "      <td>speaking sexual harassment allegations rajkuma...</td>\n",
              "      <td>sostoken have known hirani for yrs what if met...</td>\n",
              "      <td>have known hirani for yrs what if metoo claims...</td>\n",
              "    </tr>\n",
              "  </tbody>\n",
              "</table>\n",
              "</div>\n",
              "      <button class=\"colab-df-convert\" onclick=\"convertToInteractive('df-53daba8a-6bbb-49c3-8fe8-76e0f6054b34')\"\n",
              "              title=\"Convert this dataframe to an interactive table.\"\n",
              "              style=\"display:none;\">\n",
              "        \n",
              "  <svg xmlns=\"http://www.w3.org/2000/svg\" height=\"24px\"viewBox=\"0 0 24 24\"\n",
              "       width=\"24px\">\n",
              "    <path d=\"M0 0h24v24H0V0z\" fill=\"none\"/>\n",
              "    <path d=\"M18.56 5.44l.94 2.06.94-2.06 2.06-.94-2.06-.94-.94-2.06-.94 2.06-2.06.94zm-11 1L8.5 8.5l.94-2.06 2.06-.94-2.06-.94L8.5 2.5l-.94 2.06-2.06.94zm10 10l.94 2.06.94-2.06 2.06-.94-2.06-.94-.94-2.06-.94 2.06-2.06.94z\"/><path d=\"M17.41 7.96l-1.37-1.37c-.4-.4-.92-.59-1.43-.59-.52 0-1.04.2-1.43.59L10.3 9.45l-7.72 7.72c-.78.78-.78 2.05 0 2.83L4 21.41c.39.39.9.59 1.41.59.51 0 1.02-.2 1.41-.59l7.78-7.78 2.81-2.81c.8-.78.8-2.07 0-2.86zM5.41 20L4 18.59l7.72-7.72 1.47 1.35L5.41 20z\"/>\n",
              "  </svg>\n",
              "      </button>\n",
              "      \n",
              "  <style>\n",
              "    .colab-df-container {\n",
              "      display:flex;\n",
              "      flex-wrap:wrap;\n",
              "      gap: 12px;\n",
              "    }\n",
              "\n",
              "    .colab-df-convert {\n",
              "      background-color: #E8F0FE;\n",
              "      border: none;\n",
              "      border-radius: 50%;\n",
              "      cursor: pointer;\n",
              "      display: none;\n",
              "      fill: #1967D2;\n",
              "      height: 32px;\n",
              "      padding: 0 0 0 0;\n",
              "      width: 32px;\n",
              "    }\n",
              "\n",
              "    .colab-df-convert:hover {\n",
              "      background-color: #E2EBFA;\n",
              "      box-shadow: 0px 1px 2px rgba(60, 64, 67, 0.3), 0px 1px 3px 1px rgba(60, 64, 67, 0.15);\n",
              "      fill: #174EA6;\n",
              "    }\n",
              "\n",
              "    [theme=dark] .colab-df-convert {\n",
              "      background-color: #3B4455;\n",
              "      fill: #D2E3FC;\n",
              "    }\n",
              "\n",
              "    [theme=dark] .colab-df-convert:hover {\n",
              "      background-color: #434B5C;\n",
              "      box-shadow: 0px 1px 3px 1px rgba(0, 0, 0, 0.15);\n",
              "      filter: drop-shadow(0px 1px 2px rgba(0, 0, 0, 0.3));\n",
              "      fill: #FFFFFF;\n",
              "    }\n",
              "  </style>\n",
              "\n",
              "      <script>\n",
              "        const buttonEl =\n",
              "          document.querySelector('#df-53daba8a-6bbb-49c3-8fe8-76e0f6054b34 button.colab-df-convert');\n",
              "        buttonEl.style.display =\n",
              "          google.colab.kernel.accessAllowed ? 'block' : 'none';\n",
              "\n",
              "        async function convertToInteractive(key) {\n",
              "          const element = document.querySelector('#df-53daba8a-6bbb-49c3-8fe8-76e0f6054b34');\n",
              "          const dataTable =\n",
              "            await google.colab.kernel.invokeFunction('convertToInteractive',\n",
              "                                                     [key], {});\n",
              "          if (!dataTable) return;\n",
              "\n",
              "          const docLinkHtml = 'Like what you see? Visit the ' +\n",
              "            '<a target=\"_blank\" href=https://colab.research.google.com/notebooks/data_table.ipynb>data table notebook</a>'\n",
              "            + ' to learn more about interactive tables.';\n",
              "          element.innerHTML = '';\n",
              "          dataTable['output_type'] = 'display_data';\n",
              "          await google.colab.output.renderOutput(dataTable, element);\n",
              "          const docLink = document.createElement('div');\n",
              "          docLink.innerHTML = docLinkHtml;\n",
              "          element.appendChild(docLink);\n",
              "        }\n",
              "      </script>\n",
              "    </div>\n",
              "  </div>\n",
              "  "
            ]
          },
          "metadata": {},
          "execution_count": 17
        }
      ]
    },
    {
      "cell_type": "code",
      "source": [
        "encoder_input = np.array(data['text']) # 인코더의 입력\n",
        "decoder_input = np.array(data['decoder_input']) # 디코더의 입력\n",
        "decoder_target = np.array(data['decoder_target']) # 디코더의 레이블\n",
        "\n",
        "indices = np.arange(encoder_input.shape[0])\n",
        "np.random.shuffle(indices)\n",
        "print(indices)"
      ],
      "metadata": {
        "id": "VjHGXLaZlXui",
        "colab": {
          "base_uri": "https://localhost:8080/"
        },
        "outputId": "952b67e8-cfa6-4a85-b6d7-065b2c20c7ec"
      },
      "execution_count": 18,
      "outputs": [
        {
          "output_type": "stream",
          "name": "stdout",
          "text": [
            "[25366 82727 26877 ... 36135  8042 80354]\n"
          ]
        }
      ]
    },
    {
      "cell_type": "code",
      "source": [
        "encoder_input = encoder_input[indices]\n",
        "decoder_input = decoder_input[indices]\n",
        "decoder_target = decoder_target[indices]\n",
        "\n",
        "n_of_val = int(len(encoder_input)*0.2)\n",
        "print('테스트 데이터의 수 :', n_of_val)"
      ],
      "metadata": {
        "id": "qCmMbo_SlaqG",
        "colab": {
          "base_uri": "https://localhost:8080/"
        },
        "outputId": "a1aa6e40-7c45-4055-cd93-bcb32be2513f"
      },
      "execution_count": 19,
      "outputs": [
        {
          "output_type": "stream",
          "name": "stdout",
          "text": [
            "테스트 데이터의 수 : 19672\n"
          ]
        }
      ]
    },
    {
      "cell_type": "code",
      "source": [
        "encoder_input_train = encoder_input[:-n_of_val]\n",
        "decoder_input_train = decoder_input[:-n_of_val]\n",
        "decoder_target_train = decoder_target[:-n_of_val]\n",
        "\n",
        "encoder_input_test = encoder_input[-n_of_val:]\n",
        "decoder_input_test = decoder_input[-n_of_val:]\n",
        "decoder_target_test = decoder_target[-n_of_val:]\n",
        "\n",
        "print('훈련 데이터의 개수 :', len(encoder_input_train))\n",
        "print('훈련 레이블의 개수 :', len(decoder_input_train))\n",
        "print('테스트 데이터의 개수 :', len(encoder_input_test))\n",
        "print('테스트 레이블의 개수 :', len(decoder_input_test))"
      ],
      "metadata": {
        "id": "ayk8A9SIlfUx",
        "colab": {
          "base_uri": "https://localhost:8080/"
        },
        "outputId": "68793174-3abc-45f2-e65d-b7167a2235bf"
      },
      "execution_count": 20,
      "outputs": [
        {
          "output_type": "stream",
          "name": "stdout",
          "text": [
            "훈련 데이터의 개수 : 78688\n",
            "훈련 레이블의 개수 : 78688\n",
            "테스트 데이터의 개수 : 19672\n",
            "테스트 레이블의 개수 : 19672\n"
          ]
        }
      ]
    },
    {
      "cell_type": "markdown",
      "source": [
        "### (3) 정수 인코딩\n",
        "단어 집합(vocabulary) 만들기 및 정수 인코딩"
      ],
      "metadata": {
        "id": "g1WnoGIJjlKG"
      }
    },
    {
      "cell_type": "code",
      "source": [
        "src_tokenizer = Tokenizer() # 토크나이저 정의\n",
        "src_tokenizer.fit_on_texts(encoder_input_train) # 입력된 데이터로부터 단어 집합 생성\n",
        "\n",
        "threshold = 7\n",
        "total_cnt = len(src_tokenizer.word_index) # 단어의 수\n",
        "rare_cnt = 0 # 등장 빈도수가 threshold보다 작은 단어의 개수를 카운트\n",
        "total_freq = 0 # 훈련 데이터의 전체 단어 빈도수 총 합\n",
        "rare_freq = 0 # 등장 빈도수가 threshold보다 작은 단어의 등장 빈도수의 총 합\n",
        "\n",
        "# 단어와 빈도수의 쌍(pair)을 key와 value로 받는다.\n",
        "for key, value in src_tokenizer.word_counts.items():\n",
        "    total_freq = total_freq + value\n",
        "\n",
        "    # 단어의 등장 빈도수가 threshold보다 작으면\n",
        "    if(value < threshold):\n",
        "        rare_cnt = rare_cnt + 1\n",
        "        rare_freq = rare_freq + value\n",
        "\n",
        "print('단어 집합(vocabulary)의 크기 :', total_cnt)\n",
        "print('등장 빈도가 %s번 이하인 희귀 단어의 수: %s'%(threshold - 1, rare_cnt))\n",
        "print('단어 집합에서 희귀 단어를 제외시킬 경우의 단어 집합의 크기 %s'%(total_cnt - rare_cnt))\n",
        "print(\"단어 집합에서 희귀 단어의 비율:\", (rare_cnt / total_cnt)*100)\n",
        "print(\"전체 등장 빈도에서 희귀 단어 등장 빈도 비율:\", (rare_freq / total_freq)*100)"
      ],
      "metadata": {
        "id": "5qC61DqsmJwA",
        "colab": {
          "base_uri": "https://localhost:8080/"
        },
        "outputId": "3bc29d5c-4306-4969-85d7-20efb345dfb6"
      },
      "execution_count": 21,
      "outputs": [
        {
          "output_type": "stream",
          "name": "stdout",
          "text": [
            "단어 집합(vocabulary)의 크기 : 69472\n",
            "등장 빈도가 6번 이하인 희귀 단어의 수: 47325\n",
            "단어 집합에서 희귀 단어를 제외시킬 경우의 단어 집합의 크기 22147\n",
            "단어 집합에서 희귀 단어의 비율: 68.12096959926302\n",
            "전체 등장 빈도에서 희귀 단어 등장 빈도 비율: 3.4899700206875\n"
          ]
        }
      ]
    },
    {
      "cell_type": "code",
      "source": [
        "src_vocab = 8000\n",
        "src_tokenizer = Tokenizer(num_words=src_vocab) # 단어 집합의 크기를 8,000으로 제한\n",
        "src_tokenizer.fit_on_texts(encoder_input_train) # 단어 집합 재생성\n",
        "\n",
        "# 텍스트 시퀀스를 정수 시퀀스로 변환\n",
        "encoder_input_train = src_tokenizer.texts_to_sequences(encoder_input_train) \n",
        "encoder_input_test = src_tokenizer.texts_to_sequences(encoder_input_test)\n",
        "\n",
        "# 잘 진행되었는지 샘플 출력\n",
        "print(encoder_input_train[:3])"
      ],
      "metadata": {
        "id": "nqHRA4RwmJ1H",
        "colab": {
          "base_uri": "https://localhost:8080/"
        },
        "outputId": "7f028647-cc3a-44e5-b0ac-e9a6429794df"
      },
      "execution_count": 22,
      "outputs": [
        {
          "output_type": "stream",
          "name": "stdout",
          "text": [
            "[[3511, 79, 5434, 978, 1102, 307, 6184, 508, 1, 1938, 681, 849, 1547, 1837, 1977, 1946, 862, 7639, 1216, 392, 1547, 978, 2464, 322, 4], [11, 1525, 306, 1283, 415, 2410, 41, 730, 409, 3757, 1168, 66, 361, 824, 425, 3107, 1221, 1738, 1674, 1997, 1283, 221, 269, 508, 2410, 66, 6, 755, 3107, 1221, 30, 3, 13, 206, 317, 5223, 4100], [11, 5124, 1714, 5324, 4693, 1, 2, 187, 4656, 3259, 909, 2926, 103, 660, 561, 493, 1564, 1969, 1226, 1, 2, 92, 1838, 184, 133, 140, 873, 339, 1492, 352, 8, 4693, 1, 26, 2139, 387, 664, 4179, 1062]]\n"
          ]
        }
      ]
    },
    {
      "cell_type": "code",
      "source": [
        "tar_tokenizer = Tokenizer()\n",
        "tar_tokenizer.fit_on_texts(decoder_input_train)\n",
        "\n",
        "threshold = 6\n",
        "total_cnt = len(tar_tokenizer.word_index) # 단어의 수\n",
        "rare_cnt = 0 # 등장 빈도수가 threshold보다 작은 단어의 개수를 카운트\n",
        "total_freq = 0 # 훈련 데이터의 전체 단어 빈도수 총 합\n",
        "rare_freq = 0 # 등장 빈도수가 threshold보다 작은 단어의 등장 빈도수의 총 합\n",
        "\n",
        "# 단어와 빈도수의 쌍(pair)을 key와 value로 받는다.\n",
        "for key, value in tar_tokenizer.word_counts.items():\n",
        "    total_freq = total_freq + value\n",
        "\n",
        "    # 단어의 등장 빈도수가 threshold보다 작으면\n",
        "    if(value < threshold):\n",
        "        rare_cnt = rare_cnt + 1\n",
        "        rare_freq = rare_freq + value\n",
        "\n",
        "print('단어 집합(vocabulary)의 크기 :', total_cnt)\n",
        "print('등장 빈도가 %s번 이하인 희귀 단어의 수: %s'%(threshold - 1, rare_cnt))\n",
        "print('단어 집합에서 희귀 단어를 제외시킬 경우의 단어 집합의 크기 %s'%(total_cnt - rare_cnt))\n",
        "print(\"단어 집합에서 희귀 단어의 비율:\", (rare_cnt / total_cnt)*100)\n",
        "print(\"전체 등장 빈도에서 희귀 단어 등장 빈도 비율:\", (rare_freq / total_freq)*100)"
      ],
      "metadata": {
        "id": "0qRuQXEAmJ3i",
        "colab": {
          "base_uri": "https://localhost:8080/"
        },
        "outputId": "f3807d72-c6be-4da3-880e-f198203cbe1c"
      },
      "execution_count": 23,
      "outputs": [
        {
          "output_type": "stream",
          "name": "stdout",
          "text": [
            "단어 집합(vocabulary)의 크기 : 30050\n",
            "등장 빈도가 5번 이하인 희귀 단어의 수: 19638\n",
            "단어 집합에서 희귀 단어를 제외시킬 경우의 단어 집합의 크기 10412\n",
            "단어 집합에서 희귀 단어의 비율: 65.35108153078203\n",
            "전체 등장 빈도에서 희귀 단어 등장 빈도 비율: 4.648806732643944\n"
          ]
        }
      ]
    },
    {
      "cell_type": "code",
      "source": [
        "tar_vocab = 2000\n",
        "tar_tokenizer = Tokenizer(num_words=tar_vocab) \n",
        "tar_tokenizer.fit_on_texts(decoder_input_train)\n",
        "tar_tokenizer.fit_on_texts(decoder_target_train)\n",
        "\n",
        "# 텍스트 시퀀스를 정수 시퀀스로 변환\n",
        "decoder_input_train = tar_tokenizer.texts_to_sequences(decoder_input_train) \n",
        "decoder_target_train = tar_tokenizer.texts_to_sequences(decoder_target_train)\n",
        "decoder_input_test = tar_tokenizer.texts_to_sequences(decoder_input_test)\n",
        "decoder_target_test = tar_tokenizer.texts_to_sequences(decoder_target_test)\n",
        "\n",
        "# 잘 변환되었는지 확인\n",
        "print('input')\n",
        "print('input ',decoder_input_train[:5])\n",
        "print('target')\n",
        "print('decoder ',decoder_target_train[:5])"
      ],
      "metadata": {
        "id": "7Q-Za0DxmJ6Z",
        "colab": {
          "base_uri": "https://localhost:8080/"
        },
        "outputId": "97321dab-56c5-47d2-8c02-86be96bd8320"
      },
      "execution_count": 24,
      "outputs": [
        {
          "output_type": "stream",
          "name": "stdout",
          "text": [
            "input\n",
            "input  [[1, 49, 736, 10, 1395, 17, 759], [1, 28, 1961, 286, 544, 201, 1929, 4, 1993], [1, 8, 772, 4, 596, 128], [1, 278, 39, 26, 950, 4, 867], [1, 1721, 1686, 1704, 29, 42, 440]]\n",
            "target\n",
            "decoder  [[49, 736, 10, 1395, 17, 759, 2], [28, 1961, 286, 544, 201, 1929, 4, 1993, 2], [8, 772, 4, 596, 128, 2], [278, 39, 26, 950, 4, 867, 2], [1721, 1686, 1704, 29, 42, 440, 2]]\n"
          ]
        }
      ]
    },
    {
      "cell_type": "code",
      "source": [
        "drop_train = [index for index, sentence in enumerate(decoder_input_train) if len(sentence) == 1]\n",
        "drop_test = [index for index, sentence in enumerate(decoder_input_test) if len(sentence) == 1]\n",
        "\n",
        "print('삭제할 훈련 데이터의 개수 :', len(drop_train))\n",
        "print('삭제할 테스트 데이터의 개수 :', len(drop_test))\n",
        "\n",
        "encoder_input_train = [sentence for index, sentence in enumerate(encoder_input_train) if index not in drop_train]\n",
        "decoder_input_train = [sentence for index, sentence in enumerate(decoder_input_train) if index not in drop_train]\n",
        "decoder_target_train = [sentence for index, sentence in enumerate(decoder_target_train) if index not in drop_train]\n",
        "\n",
        "encoder_input_test = [sentence for index, sentence in enumerate(encoder_input_test) if index not in drop_test]\n",
        "decoder_input_test = [sentence for index, sentence in enumerate(decoder_input_test) if index not in drop_test]\n",
        "decoder_target_test = [sentence for index, sentence in enumerate(decoder_target_test) if index not in drop_test]\n",
        "\n",
        "print('훈련 데이터의 개수 :', len(encoder_input_train))\n",
        "print('훈련 레이블의 개수 :', len(decoder_input_train))\n",
        "print('테스트 데이터의 개수 :', len(encoder_input_test))\n",
        "print('테스트 레이블의 개수 :', len(decoder_input_test))"
      ],
      "metadata": {
        "id": "du0_HaGWmJ8p",
        "colab": {
          "base_uri": "https://localhost:8080/"
        },
        "outputId": "a27f9f16-2c61-48f1-d58a-dd63100ad9bd"
      },
      "execution_count": 25,
      "outputs": [
        {
          "output_type": "stream",
          "name": "stdout",
          "text": [
            "삭제할 훈련 데이터의 개수 : 13\n",
            "삭제할 테스트 데이터의 개수 : 2\n",
            "훈련 데이터의 개수 : 78675\n",
            "훈련 레이블의 개수 : 78675\n",
            "테스트 데이터의 개수 : 19670\n",
            "테스트 레이블의 개수 : 19670\n"
          ]
        }
      ]
    },
    {
      "cell_type": "code",
      "source": [
        "# 패딩\n",
        "encoder_input_train = pad_sequences(encoder_input_train, maxlen=text_max_len, padding='post')\n",
        "encoder_input_test = pad_sequences(encoder_input_test, maxlen=text_max_len, padding='post')\n",
        "decoder_input_train = pad_sequences(decoder_input_train, maxlen=headlines_max_len, padding='post')\n",
        "decoder_target_train = pad_sequences(decoder_target_train, maxlen=headlines_max_len, padding='post')\n",
        "decoder_input_test = pad_sequences(decoder_input_test, maxlen=headlines_max_len, padding='post')\n",
        "decoder_target_test = pad_sequences(decoder_target_test, maxlen=headlines_max_len, padding='post')"
      ],
      "metadata": {
        "id": "EyFKCjNKmJ_S"
      },
      "execution_count": 26,
      "outputs": []
    },
    {
      "cell_type": "markdown",
      "source": [
        "## 모델 설계"
      ],
      "metadata": {
        "id": "-2LK2p28ms6g"
      }
    },
    {
      "cell_type": "code",
      "source": [
        "#함수형 API\n",
        "from tensorflow.keras.layers import Input, LSTM, Embedding, Dense, Concatenate, TimeDistributed\n",
        "from tensorflow.keras.models import Model\n",
        "from tensorflow.keras.callbacks import EarlyStopping, ModelCheckpoint\n",
        "\n",
        "\n",
        "# 인코더 설계 시작\n",
        "embedding_dim = 128\n",
        "hidden_size = 256\n",
        "\n",
        "# 인코더\n",
        "encoder_inputs = Input(shape=(text_max_len,))\n",
        "\n",
        "# 인코더의 임베딩 층\n",
        "enc_emb = Embedding(src_vocab, embedding_dim)(encoder_inputs)\n",
        "\n",
        "# 인코더의 LSTM 1\n",
        "encoder_lstm1 = LSTM(hidden_size, return_sequences=True, return_state=True ,dropout = 0.4, recurrent_dropout = 0.4)\n",
        "encoder_output1, state_h1, state_c1 = encoder_lstm1(enc_emb)\n",
        "\n",
        "# 인코더의 LSTM 2\n",
        "encoder_lstm2 = LSTM(hidden_size, return_sequences=True, return_state=True, dropout=0.4, recurrent_dropout=0.4)\n",
        "encoder_output2, state_h2, state_c2 = encoder_lstm2(encoder_output1)\n",
        "\n",
        "# 인코더의 LSTM 3\n",
        "encoder_lstm3 = LSTM(hidden_size, return_state=True, return_sequences=True, dropout=0.4, recurrent_dropout=0.4)\n",
        "encoder_outputs, state_h, state_c= encoder_lstm3(encoder_output2)"
      ],
      "metadata": {
        "id": "VV0tmLmlmtks",
        "colab": {
          "base_uri": "https://localhost:8080/"
        },
        "outputId": "1c36e71a-40b6-4e50-d195-10a7c1b2575f"
      },
      "execution_count": 27,
      "outputs": [
        {
          "output_type": "stream",
          "name": "stderr",
          "text": [
            "WARNING:tensorflow:Layer lstm will not use cuDNN kernels since it doesn't meet the criteria. It will use a generic GPU kernel as fallback when running on GPU.\n",
            "WARNING:tensorflow:Layer lstm_1 will not use cuDNN kernels since it doesn't meet the criteria. It will use a generic GPU kernel as fallback when running on GPU.\n",
            "WARNING:tensorflow:Layer lstm_2 will not use cuDNN kernels since it doesn't meet the criteria. It will use a generic GPU kernel as fallback when running on GPU.\n"
          ]
        }
      ]
    },
    {
      "cell_type": "code",
      "source": [
        "# 디코더 설계\n",
        "decoder_inputs = Input(shape=(None,))\n",
        "\n",
        "# 디코더의 임베딩 층\n",
        "dec_emb_layer = Embedding(tar_vocab, embedding_dim)\n",
        "dec_emb = dec_emb_layer(decoder_inputs)\n",
        "\n",
        "# 디코더의 LSTM\n",
        "decoder_lstm = LSTM(hidden_size, return_sequences=True, return_state=True, dropout=0.4, recurrent_dropout=0.2)\n",
        "decoder_outputs, _, _ = decoder_lstm(dec_emb, initial_state=[state_h, state_c])"
      ],
      "metadata": {
        "id": "rk2dycF2mxw9",
        "colab": {
          "base_uri": "https://localhost:8080/"
        },
        "outputId": "dad1738b-32a9-4757-cf7b-29d81f4063d3"
      },
      "execution_count": 28,
      "outputs": [
        {
          "output_type": "stream",
          "name": "stderr",
          "text": [
            "WARNING:tensorflow:Layer lstm_3 will not use cuDNN kernels since it doesn't meet the criteria. It will use a generic GPU kernel as fallback when running on GPU.\n"
          ]
        }
      ]
    },
    {
      "cell_type": "code",
      "source": [
        "# 디코더의 출력층\n",
        "decoder_softmax_layer = Dense(tar_vocab, activation='softmax')\n",
        "decoder_softmax_outputs = decoder_softmax_layer(decoder_outputs) \n",
        "\n",
        "# 모델 정의\n",
        "model = Model([encoder_inputs, decoder_inputs], decoder_softmax_outputs)\n",
        "model.summary()"
      ],
      "metadata": {
        "id": "hdl2n49amyN8",
        "colab": {
          "base_uri": "https://localhost:8080/"
        },
        "outputId": "6a2e4d46-7da6-494a-c725-5e88ae70774a"
      },
      "execution_count": 29,
      "outputs": [
        {
          "output_type": "stream",
          "name": "stdout",
          "text": [
            "Model: \"model\"\n",
            "__________________________________________________________________________________________________\n",
            " Layer (type)                   Output Shape         Param #     Connected to                     \n",
            "==================================================================================================\n",
            " input_1 (InputLayer)           [(None, 60)]         0           []                               \n",
            "                                                                                                  \n",
            " embedding (Embedding)          (None, 60, 128)      1024000     ['input_1[0][0]']                \n",
            "                                                                                                  \n",
            " lstm (LSTM)                    [(None, 60, 256),    394240      ['embedding[0][0]']              \n",
            "                                 (None, 256),                                                     \n",
            "                                 (None, 256)]                                                     \n",
            "                                                                                                  \n",
            " input_2 (InputLayer)           [(None, None)]       0           []                               \n",
            "                                                                                                  \n",
            " lstm_1 (LSTM)                  [(None, 60, 256),    525312      ['lstm[0][0]']                   \n",
            "                                 (None, 256),                                                     \n",
            "                                 (None, 256)]                                                     \n",
            "                                                                                                  \n",
            " embedding_1 (Embedding)        (None, None, 128)    256000      ['input_2[0][0]']                \n",
            "                                                                                                  \n",
            " lstm_2 (LSTM)                  [(None, 60, 256),    525312      ['lstm_1[0][0]']                 \n",
            "                                 (None, 256),                                                     \n",
            "                                 (None, 256)]                                                     \n",
            "                                                                                                  \n",
            " lstm_3 (LSTM)                  [(None, None, 256),  394240      ['embedding_1[0][0]',            \n",
            "                                 (None, 256),                     'lstm_2[0][1]',                 \n",
            "                                 (None, 256)]                     'lstm_2[0][2]']                 \n",
            "                                                                                                  \n",
            " dense (Dense)                  (None, None, 2000)   514000      ['lstm_3[0][0]']                 \n",
            "                                                                                                  \n",
            "==================================================================================================\n",
            "Total params: 3,633,104\n",
            "Trainable params: 3,633,104\n",
            "Non-trainable params: 0\n",
            "__________________________________________________________________________________________________\n"
          ]
        }
      ]
    },
    {
      "cell_type": "markdown",
      "source": [
        "# Step 3. 어텐션 메커니즘 사용하기 (추상적 요약)\n",
        "일반적인 seq2seq보다는 어텐션 메커니즘을 사용한 seq2seq를 사용하는 것이 더 나은 성능을 얻을 수 있어요. 실습 내용을 참고하여 어텐션 메커니즘을 사용한 seq2seq를 설계해 보세요."
      ],
      "metadata": {
        "id": "lWswxlIeupfR"
      }
    },
    {
      "cell_type": "code",
      "source": [
        "from tensorflow.keras.layers import AdditiveAttention\n",
        "\n",
        "# 어텐션 층(어텐션 함수)\n",
        "attn_layer = AdditiveAttention(name='attention_layer')\n",
        "\n",
        "# 인코더와 디코더의 모든 time step의 hidden state를 어텐션 층에 전달하고 결과를 리턴\n",
        "attn_out = attn_layer([decoder_outputs, encoder_outputs])\n",
        "\n",
        "\n",
        "# 어텐션의 결과와 디코더의 hidden state들을 연결\n",
        "decoder_concat_input = Concatenate(axis=-1, name='concat_layer')([decoder_outputs, attn_out])\n",
        "\n",
        "# 디코더의 출력층\n",
        "decoder_softmax_layer = Dense(tar_vocab, activation='softmax')\n",
        "decoder_softmax_outputs = decoder_softmax_layer(decoder_concat_input)\n",
        "\n",
        "# 모델 정의\n",
        "model = Model([encoder_inputs, decoder_inputs], decoder_softmax_outputs)\n",
        "model.summary()"
      ],
      "metadata": {
        "id": "jTvHrnlOkLow",
        "colab": {
          "base_uri": "https://localhost:8080/"
        },
        "outputId": "6dd5f15e-6346-4e28-af1b-400948d19a9c"
      },
      "execution_count": 30,
      "outputs": [
        {
          "output_type": "stream",
          "name": "stdout",
          "text": [
            "Model: \"model_1\"\n",
            "__________________________________________________________________________________________________\n",
            " Layer (type)                   Output Shape         Param #     Connected to                     \n",
            "==================================================================================================\n",
            " input_1 (InputLayer)           [(None, 60)]         0           []                               \n",
            "                                                                                                  \n",
            " embedding (Embedding)          (None, 60, 128)      1024000     ['input_1[0][0]']                \n",
            "                                                                                                  \n",
            " lstm (LSTM)                    [(None, 60, 256),    394240      ['embedding[0][0]']              \n",
            "                                 (None, 256),                                                     \n",
            "                                 (None, 256)]                                                     \n",
            "                                                                                                  \n",
            " input_2 (InputLayer)           [(None, None)]       0           []                               \n",
            "                                                                                                  \n",
            " lstm_1 (LSTM)                  [(None, 60, 256),    525312      ['lstm[0][0]']                   \n",
            "                                 (None, 256),                                                     \n",
            "                                 (None, 256)]                                                     \n",
            "                                                                                                  \n",
            " embedding_1 (Embedding)        (None, None, 128)    256000      ['input_2[0][0]']                \n",
            "                                                                                                  \n",
            " lstm_2 (LSTM)                  [(None, 60, 256),    525312      ['lstm_1[0][0]']                 \n",
            "                                 (None, 256),                                                     \n",
            "                                 (None, 256)]                                                     \n",
            "                                                                                                  \n",
            " lstm_3 (LSTM)                  [(None, None, 256),  394240      ['embedding_1[0][0]',            \n",
            "                                 (None, 256),                     'lstm_2[0][1]',                 \n",
            "                                 (None, 256)]                     'lstm_2[0][2]']                 \n",
            "                                                                                                  \n",
            " attention_layer (AdditiveAtten  (None, None, 256)   256         ['lstm_3[0][0]',                 \n",
            " tion)                                                            'lstm_2[0][0]']                 \n",
            "                                                                                                  \n",
            " concat_layer (Concatenate)     (None, None, 512)    0           ['lstm_3[0][0]',                 \n",
            "                                                                  'attention_layer[0][0]']        \n",
            "                                                                                                  \n",
            " dense_1 (Dense)                (None, None, 2000)   1026000     ['concat_layer[0][0]']           \n",
            "                                                                                                  \n",
            "==================================================================================================\n",
            "Total params: 4,145,360\n",
            "Trainable params: 4,145,360\n",
            "Non-trainable params: 0\n",
            "__________________________________________________________________________________________________\n"
          ]
        }
      ]
    },
    {
      "cell_type": "markdown",
      "source": [
        "### 모델훈련"
      ],
      "metadata": {
        "id": "ruoXqsB0kOva"
      }
    },
    {
      "cell_type": "code",
      "source": [
        "model.compile(optimizer='rmsprop', loss='sparse_categorical_crossentropy')\n",
        "es = EarlyStopping(monitor='val_loss', patience=2, verbose=1)\n",
        "history = model.fit(x=[encoder_input_train, decoder_input_train], y=decoder_target_train, \\\n",
        "          validation_data=([encoder_input_test, decoder_input_test], decoder_target_test), \\\n",
        "          batch_size=256, callbacks=[es], epochs=50)"
      ],
      "metadata": {
        "id": "FwwL6g29kMrv",
        "colab": {
          "base_uri": "https://localhost:8080/"
        },
        "outputId": "163d057e-ec6c-4983-aebe-632aa608df79"
      },
      "execution_count": 31,
      "outputs": [
        {
          "output_type": "stream",
          "name": "stdout",
          "text": [
            "Epoch 1/50\n",
            "308/308 [==============================] - 244s 756ms/step - loss: 2.9518 - val_loss: 2.6885\n",
            "Epoch 2/50\n",
            "308/308 [==============================] - 232s 753ms/step - loss: 2.5664 - val_loss: 2.4305\n",
            "Epoch 3/50\n",
            "308/308 [==============================] - 239s 776ms/step - loss: 2.3441 - val_loss: 2.2750\n",
            "Epoch 4/50\n",
            "308/308 [==============================] - 234s 759ms/step - loss: 2.2029 - val_loss: 2.1656\n",
            "Epoch 5/50\n",
            "308/308 [==============================] - 232s 753ms/step - loss: 2.1023 - val_loss: 2.0967\n",
            "Epoch 6/50\n",
            "308/308 [==============================] - 233s 757ms/step - loss: 2.0229 - val_loss: 2.0395\n",
            "Epoch 7/50\n",
            "308/308 [==============================] - 231s 750ms/step - loss: 1.9561 - val_loss: 1.9936\n",
            "Epoch 8/50\n",
            "308/308 [==============================] - 232s 754ms/step - loss: 1.8987 - val_loss: 1.9556\n",
            "Epoch 9/50\n",
            "308/308 [==============================] - 231s 747ms/step - loss: 1.8484 - val_loss: 1.9223\n",
            "Epoch 10/50\n",
            "308/308 [==============================] - 230s 747ms/step - loss: 1.8043 - val_loss: 1.8966\n",
            "Epoch 11/50\n",
            "308/308 [==============================] - 232s 753ms/step - loss: 1.7630 - val_loss: 1.8799\n",
            "Epoch 12/50\n",
            "308/308 [==============================] - 231s 750ms/step - loss: 1.7280 - val_loss: 1.8561\n",
            "Epoch 13/50\n",
            "308/308 [==============================] - 231s 749ms/step - loss: 1.6948 - val_loss: 1.8430\n",
            "Epoch 14/50\n",
            "308/308 [==============================] - 232s 752ms/step - loss: 1.6645 - val_loss: 1.8302\n",
            "Epoch 15/50\n",
            "308/308 [==============================] - 232s 753ms/step - loss: 1.6365 - val_loss: 1.8193\n",
            "Epoch 16/50\n",
            "308/308 [==============================] - 230s 747ms/step - loss: 1.6103 - val_loss: 1.8079\n",
            "Epoch 17/50\n",
            "308/308 [==============================] - 229s 743ms/step - loss: 1.5863 - val_loss: 1.8053\n",
            "Epoch 18/50\n",
            "308/308 [==============================] - 230s 745ms/step - loss: 1.5645 - val_loss: 1.7973\n",
            "Epoch 19/50\n",
            "308/308 [==============================] - 231s 751ms/step - loss: 1.5429 - val_loss: 1.7881\n",
            "Epoch 20/50\n",
            "308/308 [==============================] - 232s 755ms/step - loss: 1.5236 - val_loss: 1.7866\n",
            "Epoch 21/50\n",
            "308/308 [==============================] - 231s 752ms/step - loss: 1.5061 - val_loss: 1.7827\n",
            "Epoch 22/50\n",
            "308/308 [==============================] - 232s 754ms/step - loss: 1.4879 - val_loss: 1.7801\n",
            "Epoch 23/50\n",
            "308/308 [==============================] - 233s 757ms/step - loss: 1.4722 - val_loss: 1.7748\n",
            "Epoch 24/50\n",
            "308/308 [==============================] - 231s 751ms/step - loss: 1.4564 - val_loss: 1.7755\n",
            "Epoch 25/50\n",
            "308/308 [==============================] - 231s 751ms/step - loss: 1.4413 - val_loss: 1.7816\n",
            "Epoch 25: early stopping\n"
          ]
        }
      ]
    },
    {
      "cell_type": "code",
      "source": [
        "#시각화\n",
        "plt.plot(history.history['loss'], label='train')\n",
        "plt.plot(history.history['val_loss'], label='test')\n",
        "plt.legend()\n",
        "plt.show()"
      ],
      "metadata": {
        "id": "WNEYarhsnC4j",
        "colab": {
          "base_uri": "https://localhost:8080/",
          "height": 266
        },
        "outputId": "f680c6c9-a03c-467e-96c8-2c9c8d62465b"
      },
      "execution_count": 32,
      "outputs": [
        {
          "output_type": "display_data",
          "data": {
            "text/plain": [
              "<Figure size 432x288 with 1 Axes>"
            ],
            "image/png": "[encoded data removed]"
          },
          "metadata": {
            "needs_background": "light"
          }
        }
      ]
    },
    {
      "cell_type": "markdown",
      "source": [
        "## 인퍼런스 구현"
      ],
      "metadata": {
        "id": "0ZUpVtadmtC2"
      }
    },
    {
      "cell_type": "code",
      "source": [
        "#텍스트 데이터 복원을 위해 3개 사전 정의\n",
        "src_index_to_word = src_tokenizer.index_word # 원문 단어 집합에서 정수 -> 단어를 얻음\n",
        "tar_word_to_index = tar_tokenizer.word_index # 요약 단어 집합에서 단어 -> 정수를 얻음\n",
        "tar_index_to_word = tar_tokenizer.index_word # 요약 단어 집합에서 정수 -> 단어를 얻음"
      ],
      "metadata": {
        "id": "hqR8GY5T_4Ml"
      },
      "execution_count": 35,
      "outputs": []
    },
    {
      "cell_type": "code",
      "source": [
        "# 인코더 설계\n",
        "encoder_model = Model(inputs=encoder_inputs, outputs=[encoder_outputs, state_h, state_c])\n",
        "\n",
        "# 이전 시점의 상태들을 저장하는 텐서\n",
        "decoder_state_input_h = Input(shape=(hidden_size,))\n",
        "decoder_state_input_c = Input(shape=(hidden_size,))\n",
        "\n",
        "dec_emb2 = dec_emb_layer(decoder_inputs)\n",
        "\n",
        "# 문장의 다음 단어를 예측하기 위해서 초기 상태(initial_state)를 이전 시점의 상태로 사용. 이는 뒤의 함수 decode_sequence()에 구현\n",
        "# 훈련 과정에서와 달리 LSTM의 리턴하는 은닉 상태와 셀 상태인 state_h와 state_c를 버리지 않음.\n",
        "\n",
        "decoder_outputs2, state_h2, state_c2 = decoder_lstm(dec_emb2, initial_state=[decoder_state_input_h, decoder_state_input_c])\n",
        "                                                                             "
      ],
      "metadata": {
        "id": "FjAxBJSanJi2"
      },
      "execution_count": 38,
      "outputs": []
    },
    {
      "cell_type": "code",
      "source": [
        "#어텐션 메커니즘을 사용하는 출력층 설계\n",
        "# 어텐션 함수\n",
        "decoder_hidden_state_input = Input(shape=(text_max_len, hidden_size))\n",
        "attn_out_inf = attn_layer([decoder_outputs2, decoder_hidden_state_input])\n",
        "decoder_inf_concat = Concatenate(axis=-1, name='concat')([decoder_outputs2, attn_out_inf])\n",
        "\n",
        "# 디코더의 출력층\n",
        "decoder_outputs2 = decoder_softmax_layer(decoder_inf_concat) \n",
        "\n",
        "# 최종 디코더 모델\n",
        "decoder_model = Model(\n",
        "    [decoder_inputs] + [decoder_hidden_state_input,decoder_state_input_h, decoder_state_input_c],\n",
        "    [decoder_outputs2] + [state_h2, state_c2])"
      ],
      "metadata": {
        "id": "JgxV15C_nJ7z"
      },
      "execution_count": 39,
      "outputs": []
    },
    {
      "cell_type": "code",
      "source": [
        "#인퍼런스 단계에서 단어 시퀀스를 완성하는 함수\n",
        "def decode_sequence(input_seq):\n",
        "    # 입력으로부터 인코더의 상태를 얻음\n",
        "    e_out, e_h, e_c = encoder_model.predict(input_seq)\n",
        "\n",
        "     # <SOS>에 해당하는 토큰 생성\n",
        "    target_seq = np.zeros((1,1))\n",
        "    target_seq[0, 0] = tar_word_to_index['sostoken']\n",
        "\n",
        "    stop_condition = False\n",
        "    decoded_sentence = ''\n",
        "    while not stop_condition: # stop_condition이 True가 될 때까지 루프 반복\n",
        "\n",
        "        output_tokens, h, c = decoder_model.predict([target_seq] + [e_out, e_h, e_c])\n",
        "        sampled_token_index = np.argmax(output_tokens[0, -1, :])\n",
        "        sampled_token = tar_index_to_word[sampled_token_index]\n",
        "\n",
        "        if (sampled_token!='eostoken'):\n",
        "            decoded_sentence += ' '+sampled_token\n",
        "\n",
        "        #  <eos>에 도달하거나 최대 길이를 넘으면 중단.\n",
        "        if (sampled_token == 'eostoken'  or len(decoded_sentence.split()) >= (headlines_max_len-1)):\n",
        "            stop_condition = True\n",
        "\n",
        "        # 길이가 1인 타겟 시퀀스를 업데이트\n",
        "        target_seq = np.zeros((1,1))\n",
        "        target_seq[0, 0] = sampled_token_index\n",
        "\n",
        "        # 상태를 업데이트 합니다.\n",
        "        e_h, e_c = h, c\n",
        "\n",
        "    return decoded_sentence"
      ],
      "metadata": {
        "id": "JZ0sQfkonLEl"
      },
      "execution_count": 40,
      "outputs": []
    },
    {
      "cell_type": "markdown",
      "source": [
        "#Step 4. 실제 결과와 요약문 비교하기 (추상적 요약)\n",
        "원래의 요약문(headlines 열)과 학습을 통해 얻은 추상적 요약의 결과를 비교해 보세요."
      ],
      "metadata": {
        "id": "XgcWBQozux1V"
      }
    },
    {
      "cell_type": "code",
      "source": [
        "# 원문의 정수 시퀀스를 텍스트 시퀀스로 변환\n",
        "def seq2text(input_seq):\n",
        "    temp=''\n",
        "    for i in input_seq:\n",
        "        if (i!=0):\n",
        "            temp = temp + src_index_to_word[i]+' '\n",
        "    return temp\n",
        "\n",
        "# 요약문의 정수 시퀀스를 텍스트 시퀀스로 변환\n",
        "def seq2headlines(input_seq):\n",
        "    temp=''\n",
        "    for i in input_seq:\n",
        "        if ((i!=0 and i!=tar_word_to_index['sostoken']) and i!=tar_word_to_index['eostoken']):\n",
        "            temp = temp + tar_index_to_word[i] + ' '\n",
        "    return temp"
      ],
      "metadata": {
        "id": "dHOMcLWbnRJD"
      },
      "execution_count": 41,
      "outputs": []
    },
    {
      "cell_type": "code",
      "source": [
        "for i in range(50, 100):\n",
        "    print(\"원문 :\", seq2text(encoder_input_test[i]))\n",
        "    print(\"실제 요약 :\", seq2headlines(decoder_input_test[i]))\n",
        "    print(\"예측 요약 :\", decode_sequence(encoder_input_test[i].reshape(1, text_max_len)))\n",
        "    print(\"\\n\")"
      ],
      "metadata": {
        "id": "YIfJUfcbnRQR",
        "colab": {
          "base_uri": "https://localhost:8080/"
        },
        "outputId": "4ee66d2a-ae59-4ddb-90dc-cbe7ebf1277f"
      },
      "execution_count": 42,
      "outputs": [
        {
          "output_type": "stream",
          "name": "stdout",
          "text": [
            "원문 : technology giant google pledged crore relief restoration work kerala due floods company india vp rajan said tuesday google crisis response team also launched several measures help people affected floods earlier apple announced crore donation towards ongoing relief work flood hit kerala \n",
            "실제 요약 : after apple google crore for kerala flood relief \n",
            "예측 요약 :  google to kerala floods relief for kerala floods\n",
            "\n",
            "\n",
            "원문 : migrants right choose host nation un refugee agency said added nations save lives afford protection refugees hailed efforts european nations including france germany italy processing asylum around refugees migrants stranded \n",
            "실제 요약 : migrants do not have right to host nation un \n",
            "예측 요약 :  nations can lose to nations\n",
            "\n",
            "\n",
            "원문 : french president emmanuel macron said britain decision quit european union yes vote mistake french people would voted leave eu presented similar choice vote referendum added macron said would welcome britain decision bloc \n",
            "실제 요약 : brexit through or no mistake france \n",
            "예측 요약 :  french prez to resign over french prez exit\n",
            "\n",
            "\n",
            "원문 : maharashtra transport commissioner office asked officials take immediate action vehicles fitted crash guards minimum fine follows transport ministry recent directive stating crash guards pose serious safety threats pedestrians vehicles crash guards used damage vehicles especially engine \n",
            "실제 요약 : maha govt to fine vehicles with crash \n",
            "예측 요약 :  maha govt officials over fire in\n",
            "\n",
            "\n",
            "원문 : chairperson kiran shaw said social media platforms like twitter eliminate danger messages lost play role global citizen effectively said also said best way deal trolls ignore avoid give statements \n",
            "실제 요약 : messages not lost in on twitter \n",
            "예측 요약 :  media should be used to\n",
            "\n",
            "\n",
            "원문 : talking management style infosys ceo parekh said much time talking staff customers like second hand information said get details micro manager earlier january parekh said immediate would include connecting employees clients build future \n",
            "실제 요약 : do not like second hand info infosys ceo on \n",
            "예측 요약 :  should not be an for me says infosys\n",
            "\n",
            "\n",
            "원문 : mukesh ambani led reliance industries jumped places ranked fortune global list world biggest companies revenue however state owned indian oil corporation top ranked indian company indian companies list ongc state bank india tata motors bharat petroleum rajesh exports \n",
            "실제 요약 : ambani reliance jumps in list \n",
            "예측 요약 :  reliance loses trillion in wealth\n",
            "\n",
            "\n",
            "원문 : picture former pakistan president pervez musharraf watching india pakistan asia cup match dubai gone viral picture musharraf seen smoking year old former pakistan army chief facing charges constitution imposing emergency country \n",
            "실제 요약 : accused during india pak match \n",
            "예측 요약 :  pak pm imran khan to fan who shot at home\n",
            "\n",
            "\n",
            "원문 : year old woman suffered panic attack fell unconscious protesters sabarimala temple kerala surrounded accompanied family woman km without police protection protesters noticed asked id card verify age taken hospital passed \n",
            "실제 요약 : woman at sabarimala attack passes out \n",
            "예측 요약 :  woman dies after being off woman in kerala\n",
            "\n",
            "\n",
            "원문 : bruhat bengaluru mahanagara palike announced decision get bike city provide emergency first aid accident victims bikes equipped oxygen basic drugs palike also plans operated women \n",
            "실제 요약 : bengaluru civic body to get more bike \n",
            "예측 요약 :  bengaluru civic body to get\n",
            "\n",
            "\n",
            "원문 : nasa funded satellite study inner radiation belt earth gathering information particles disrupt satellites threaten astronauts million mission launched would enable high resolution studies earth van allen trap charged particles sun planet magnetic field \n",
            "실제 요약 : satellite to study earth \n",
            "예측 요약 :  nasa to send to space for the first time\n",
            "\n",
            "\n",
            "원문 : ex south africa captain pants live tv slip alongside fellow commentator ex south africa captain smith segment lunch break south africa pakistan test friday thanks change room replacement pants slip displays suit pants later tweeted \n",
            "실제 요약 : former south africa captain his on live tv \n",
            "예측 요약 :  sa captain de to sa\n",
            "\n",
            "\n",
            "원문 : amid controversy picture pakistan founder muhammad ali jinnah inside haryana finance minister captain said university renamed king raja mahendra pratap singh minister claimed singh donated land university without objective education religion \n",
            "실제 요약 : after king haryana finance min \n",
            "예측 요약 :  pak captain slammed for minister pic\n",
            "\n",
            "\n",
            "원문 : kerala police arrested man allegedly raping four minor girls inmates shelter home used run earlier arrested last year year old revealed counselling session raped secured bail girls shelter home shifted homes \n",
            "실제 요약 : kerala shelter home director for raping \n",
            "예측 요약 :  arrested for raping minor girl in delhi\n",
            "\n",
            "\n",
            "원문 : delhi cm arvind kejriwal said haryana cm manohar lal khattar know run government ready teach free improve education build reduce electricity rates feel sad haryana aap models praised haryana people even basic facilities electricity water kejriwal added \n",
            "실제 요약 : ready to cm for free how to run govt delhi cm \n",
            "예측 요약 :  kejriwal should be free haryana cm kejriwal\n",
            "\n",
            "\n",
            "원문 : centre said committed easy full implementation rti faced criticism proposed amendments rules alleged size rti restricted words change fee structure word limit rti government stated \n",
            "실제 요약 : no change in fee word limit for rti govt \n",
            "예측 요약 :  govt asks to rti\n",
            "\n",
            "\n",
            "원문 : india tata steel germany based appointed currently chief executive officer steel division future ceo proposed european joint venture also chair management board partnership current tata steel europe ceo deputy ceo chief technology officer new entity \n",
            "실제 요약 : to head with tata steel \n",
            "예측 요약 :  tata steel appoints as steel ceo\n",
            "\n",
            "\n",
            "원문 : icc ceo said cricket needs players like rahul dravid ms dhoni much aggressive ones like virat kohli cricket needs larger life characters like virat kohli ben stokes equally needs mahendra singh rahul make sure stay good side line said \n",
            "실제 요약 : cricket needs dhoni dravid as much as kohli icc ceo \n",
            "예측 요약 :  kohli has come to do so much like virat kohli\n",
            "\n",
            "\n",
            "원문 : west bengal chief minister mamata banerjee wednesday centre saying link aadhaar phone number authorities phone wanted also urged audience party workers leaders link two said many connections \n",
            "실제 요약 : won link phone to aadhaar let them cm mamata \n",
            "예측 요약 :  aadhaar card cannot be used to aadhaar andhra cm\n",
            "\n",
            "\n",
            "원문 : man made crore selling land rescued made wear night reportedly police suspicion used victim police also suspicious noted car used crime taxi white plates \n",
            "실제 요약 : cops rescue man as make him wear at night \n",
            "예측 요약 :  man throws worth cr on train\n",
            "\n",
            "\n",
            "원문 : union minister demanded reservations sc st community indian cricket team harm giving reservation two categories said minister also reservation categories could ensured better performance indian team pakistan champions trophy final \n",
            "실제 요약 : demands for sc st in team india \n",
            "예측 요약 :  govt should not be st indian team to govt\n",
            "\n",
            "\n",
            "원문 : pm said interpol red corner notice issued india mehul choksi extended citizenship choksi claimed actually left country know facts added said country extradition treaty india cooperate \n",
            "실제 요약 : no alert on choksi when given citizenship \n",
            "예측 요약 :  cannot return to india to name choksi\n",
            "\n",
            "\n",
            "원문 : nobel left million establish nobel medicine physics chemistry literature peace sweden central bank marking th anniversary made donation nobel foundation establish prize economic sciences memory nobel royal swedish academy sciences economics \n",
            "실제 요약 : nobel did not the prize in \n",
            "예측 요약 :  nobel prize money to nobel prize\n",
            "\n",
            "\n",
            "원문 : develop bengaluru international hub computer technology cabinet wednesday approved karnataka visual effects gaming policy apart investments also expected create jobs city also centre collaboration among world best schools \n",
            "실제 요약 : bengaluru to be as for \n",
            "예측 요약 :  bengaluru to get quota from\n",
            "\n",
            "\n",
            "원문 : traders body india traders threatened launch nationwide agitation government billion flipkart walmart deal claims ignoring bring reforms commerce sector encouraged walmart buy flipkart enter trade deal increase commerce spectrum trader body said \n",
            "실제 요약 : threatens on flipkart walmart deal \n",
            "예측 요약 :  india may face bn flipkart walmart deal\n",
            "\n",
            "\n",
            "원문 : emmanuel working informal mining sector africa leone unearthed carat diamond handed government government announced diamond among largest world given president wednesday auctioned transparent bidding process raise funds community \n",
            "실제 요약 : finds in africa gives it to govt \n",
            "예측 요약 :  named in india\n",
            "\n",
            "\n",
            "원문 : bajaj home insurance policy provides coverage losses damages caused properties unfortunate event natural accidental policy offers option either home limited people home ownership also purchased living rented properties well \n",
            "실제 요약 : home insurance you from \n",
            "예측 요약 :  insurance insurance plan to get jobs\n",
            "\n",
            "\n",
            "원문 : us president donald trump tuesday said progress talks north korea may false hope us ready act either direction statement followed meeting south north korea step towards improving ties north korea pledged nuclear missile activities us talk \n",
            "실제 요약 : talks with north korea may be false hope trump \n",
            "예측 요약 :  trump will not be us if us russia\n",
            "\n",
            "\n",
            "원문 : pakistan jailed former prime minister nawaz sharif condition serious following heart shifted hospital without delay khan said wednesday punjab institute tuesday said sharif heart bigger normal citing report sharif also \n",
            "실제 요약 : ex pak pm sharif very says his doctor \n",
            "예측 요약 :  sharif ex pak pm sharif\n",
            "\n",
            "\n",
            "원문 : nasa hubble space telescope mission released pictures version featuring objects noted looking like turned otherwise developed french named charles featuring star help astronomers search \n",
            "실제 요약 : nasa shares from not \n",
            "예측 요약 :  nasa releases new of\n",
            "\n",
            "\n",
            "원문 : turkish president recep tayyip erdo sunday called israel terrorist state children erdo also vowed use means fight us recognition jerusalem israel capital show applying measure easy added recently erdo described jerusalem recognition red line muslims \n",
            "실제 요약 : president an calls israel terrorist state \n",
            "예측 요약 :  turkey prez calls for prez\n",
            "\n",
            "\n",
            "원문 : barcelona forward lionel messi posted video instagram bidding farewell brazilian teammate neymar jr set exit spanish club messi spent four years alongside neymar captioned video shared years friend neymar wish good luck life see soon \n",
            "실제 요약 : messi to \n",
            "예측 요약 :  messi messi to play football team\n",
            "\n",
            "\n",
            "원문 : least medals athletes last year rio olympics returned organisers medals mostly bronze fixed brazilian originally manufactured per organisers medals turned black places affected cold weather \n",
            "실제 요약 : over olympics by \n",
            "예측 요약 :  olympic medal medal in south africa\n",
            "\n",
            "\n",
            "원문 : beer company faced online backlash acting like corporate machines forcing pub change name face action earlier criticised way major operate launched brand called firm threatened legal action pub name accusations \n",
            "실제 요약 : beer firm slammed for to change its name \n",
            "예측 요약 :  beer firm sends legal to\n",
            "\n",
            "\n",
            "원문 : lok sabha friday passed indian institute management bill aims giving schools allow grant degrees bill declaration existing institutions national importance difficult run hrd minister prakash javadekar said \n",
            "실제 요약 : lok sabha passes bill to give more to \n",
            "예측 요약 :  lok sabha passes bill to be\n",
            "\n",
            "\n",
            "원문 : united airlines passenger said landed san francisco instead paris airline gate change united employees missed destination checking boarding pass flying nearly kilometres wrong direction san francisco meanwhile united airlines apologised failure \n",
            "실제 요약 : united passenger to instead of paris \n",
            "예측 요약 :  united airlines crew to take off flight\n",
            "\n",
            "\n",
            "원문 : maharashtra revenue minister patil tuesday claimed shiv sena chief uddhav thackeray assured support maratha reservation bill patil met thackeray latter residence part government efforts support bill state currently winter session mumbai \n",
            "실제 요약 : sena support for quota bill maha minister \n",
            "예측 요약 :  shiv sena to quota bill\n",
            "\n",
            "\n",
            "원문 : year old man charged assault year old woman aged care facility australia sydney granted bail pending appearance local court november convicted man could face seven years prison \n",
            "실제 요약 : yr old man held for assault of yr old woman \n",
            "예측 요약 :  man held for raping yr old woman in uk\n",
            "\n",
            "\n",
            "원문 : india wednesday summoned pakistan high commissioner sohail protest pakistan foreign minister shah qureshi phone call separatist leader umar farooq parties conference qureshi actions direct interference internal affairs neighbour ministry external affairs said statement \n",
            "실제 요약 : india pakistan envoy over call to leader \n",
            "예측 요약 :  india pakistan envoy to stop saeed\n",
            "\n",
            "\n",
            "원문 : clashes members thakur community residents village killed least one person uttar pradesh friday residents dalit village objected loud procession rajput king pratap birth anniversary clashes erupted following altercation wherein houses village set fire \n",
            "실제 요약 : dead in between in up \n",
            "예측 요약 :  killed in up over dalit dalit in up\n",
            "\n",
            "\n",
            "원문 : us general mumbai said country qualified indians adding president donald trump committed relations india believe indians studying us students studying india part holds relationship together said \n",
            "실제 요약 : us indians us general \n",
            "예측 요약 :  india should not be part of us trump\n",
            "\n",
            "\n",
            "원문 : delhi court wednesday fined bachao activist repeated absence defamation cases filed court given one last opportunity failing dismiss complaint notably court given last final opportunity january well \n",
            "실제 요약 : delhi court fine on activist \n",
            "예측 요약 :  fined for not paying for\n",
            "\n",
            "\n",
            "원문 : netherlands based startup developed sleep robot claims improve user sleep breathing technology makes like device fall rise providing user breathing app connected device also play sound music automatically turns user falls asleep \n",
            "실제 요약 : startup develops like robot to sleep \n",
            "예측 요약 :  startup makes to sleep with\n",
            "\n",
            "\n",
            "원문 : talking north carolina man whose house damaged yacht hurricane us president donald trump said least got nice boat deal trump suggested owner may get keep boat also told victim good time handing meals \n",
            "실제 요약 : at least you got trump tells victim \n",
            "예측 요약 :  trump calls us man who said he is very\n",
            "\n",
            "\n",
            "원문 : assam police filed chargesheet people accused lynching two men june suspicion child kidnapping chargesheet claimed prosecution witnesses incident sparked massive outrage protests across state family members one deceased demanded death penalty accused \n",
            "실제 요약 : cops file against accused in assam \n",
            "예측 요약 :  assam police accused of raping men\n",
            "\n",
            "\n",
            "원문 : odisha cm naveen patnaik announced implementation new pay scale th pay commission recommendations state government employees around lakh serving employees lakh would benefit implementation cm said state additional annual expenditure would crore adding employees get pay hike september salary onwards \n",
            "실제 요약 : odisha announces new pay for state govt employees \n",
            "예측 요약 :  odisha cm announces pay hike for staff\n",
            "\n",
            "\n",
            "원문 : singer malik said bollywood actors feature every non film song added singer actually created entire song gets lost somewhere background said bollywood actor non film song might help expand fan base \n",
            "실제 요약 : actors should not feature in every non film song \n",
            "예측 요약 :  film industry is not actors\n",
            "\n",
            "\n",
            "원문 : become longest running tv show ever us th episode show several awards including awards people choice award show faced controversy indians respect character comedian released documentary problem \n",
            "실제 요약 : the becomes longest running tv show in us \n",
            "예측 요약 :  longest ever set up in us open\n",
            "\n",
            "\n",
            "원문 : jharkhand left arm spinner thursday picked wickets runs overs rajasthan vijay hazare trophy chennai set world record best bowling figures list cricket previous best bowling figures registered former delhi spinner rahul himachal pradesh \n",
            "실제 요약 : jharkhand spinner takes wickets for runs to set world record \n",
            "예측 요약 :  raj has record in his th odi\n",
            "\n",
            "\n",
            "원문 : year old student preparing national eligibility entrance test rajasthan allegedly committed suicide hanging video chat father thursday boy father lives another city called boy broke boy room door rushed hospital declared dead \n",
            "실제 요약 : himself during video with father \n",
            "예측 요약 :  yr old girl kills self after being in rajasthan\n",
            "\n",
            "\n"
          ]
        }
      ]
    },
    {
      "cell_type": "markdown",
      "source": [
        "#Step 5. Summa을 이용해서 추출적 요약해보기\n",
        "추상적 요약은 추출적 요약과는 달리 문장의 표현력을 다양하게 가져갈 수 있지만, 추출적 요약에 비해서 난이도가 높다. 반대로 말하면 추출적 요약은 추상적 요약에 비해 난이도가 낮고 기존 문장에서 문장을 꺼내오는 것이므로 잘못된 요약이 나올 가능성이 낮다"
      ],
      "metadata": {
        "id": "6lTHJieIux9Q"
      }
    },
    {
      "cell_type": "code",
      "source": [
        "! pip install summa"
      ],
      "metadata": {
        "colab": {
          "base_uri": "https://localhost:8080/"
        },
        "id": "7Dq8PBV7AxXz",
        "outputId": "09edc460-d852-4302-a67d-5af5da6acde4"
      },
      "execution_count": 29,
      "outputs": [
        {
          "output_type": "stream",
          "name": "stdout",
          "text": [
            "Looking in indexes: https://pypi.org/simple, https://us-python.pkg.dev/colab-wheels/public/simple/\n",
            "Requirement already satisfied: summa in /usr/local/lib/python3.7/dist-packages (1.2.0)\n",
            "Requirement already satisfied: scipy>=0.19 in /usr/local/lib/python3.7/dist-packages (from summa) (1.7.3)\n",
            "Requirement already satisfied: numpy<1.23.0,>=1.16.5 in /usr/local/lib/python3.7/dist-packages (from scipy>=0.19->summa) (1.21.6)\n"
          ]
        }
      ]
    },
    {
      "cell_type": "code",
      "source": [
        "import requests\n",
        "from summa.summarizer import summarize\n",
        "\n",
        "datas = pd.read_csv('news_summary_more.csv', encoding='iso-8859-1')"
      ],
      "metadata": {
        "id": "BeIOoQeGnkG_"
      },
      "execution_count": 52,
      "outputs": []
    },
    {
      "cell_type": "code",
      "source": [
        "# 원래 text\n",
        "print(datas['text'][1500])"
      ],
      "metadata": {
        "colab": {
          "base_uri": "https://localhost:8080/"
        },
        "id": "kQ3zqHVZfxwe",
        "outputId": "aa7fb967-826f-42ab-86e7-b9e4ce03635d"
      },
      "execution_count": 53,
      "outputs": [
        {
          "output_type": "stream",
          "name": "stdout",
          "text": [
            "Telangana's Cyberabad Traffic Police has sent at least 100 letters within a month informing various companies about their employees' traffic violations. \"It is to inform that one of your employees was caught while driving under the influence of alcohol...he was sentenced to four days imprisonment,\" a letter read. DCP Vijay Kumar said the move was implemented based on public feedback.\n"
          ]
        }
      ]
    },
    {
      "cell_type": "markdown",
      "source": [
        "Summa의 summarize는 문장 토큰화를 별도로 하지 않더라도 내부적으로 문장 토큰화를 수행한다. 그렇기 때문에 문장 구분이 되어있지 않은 원문을 바로 입력으로 넣을 수 있다. 비율을 적게 주어서 요약문으로 선택되는 문장의 개수를 줄여보자. 원문의 0.40%만을 출력하도록 설정했다.\n"
      ],
      "metadata": {
        "id": "xOtJENV3f_rU"
      }
    },
    {
      "cell_type": "code",
      "source": [
        "# 원문의 비율을 조절해 요약\n",
        "print('Summary:')\n",
        "print(summarize(datas['text'][1500], ratio=0.335))"
      ],
      "metadata": {
        "colab": {
          "base_uri": "https://localhost:8080/"
        },
        "id": "MgrV7I0OfxzO",
        "outputId": "43f9a789-4806-45cc-a07e-29e56f6ec6db"
      },
      "execution_count": 69,
      "outputs": [
        {
          "output_type": "stream",
          "name": "stdout",
          "text": [
            "Summary:\n",
            "Telangana's Cyberabad Traffic Police has sent at least 100 letters within a month informing various companies about their employees' traffic violations.\n"
          ]
        }
      ]
    },
    {
      "cell_type": "code",
      "source": [
        "# 단어 선택해서 요약\n",
        "print('Summary:')\n",
        "print(summarize(datas['text'][1500], words=11))# 단어 20개만 선택"
      ],
      "metadata": {
        "colab": {
          "base_uri": "https://localhost:8080/"
        },
        "id": "Fkidt6iRfx13",
        "outputId": "21f9222d-56c3-4ac1-f0b3-1d764a46fd6f"
      },
      "execution_count": 81,
      "outputs": [
        {
          "output_type": "stream",
          "name": "stdout",
          "text": [
            "Summary:\n",
            "Telangana's Cyberabad Traffic Police has sent at least 100 letters within a month informing various companies about their employees' traffic violations.\n"
          ]
        }
      ]
    },
    {
      "cell_type": "markdown",
      "source": [
        "# 회고\n",
        "(1) 결과  \n",
        "\n",
        "\n",
        "(2) 과정\n",
        "프로젝트 진행 과정\n",
        "1. 데이터 수집하기  \n",
        "- 네이버 영화의 댓글을 모아 구성된 한국어 텍스트 감성 분석, \n",
        "뉴스 기사 데이터(news_summary_more.csv)\n",
        "\n",
        " \n",
        "2. 데이터 전처리하기 (추상적 요약)\n",
        "- 데이터 정리하기 : 중복 샘플과 NULL 값이 존재하는 샘플 제거, 텍스트 정규화와 불용어 제거  \n",
        "- 훈련데이터와 테스트데이터 나누기 : 샘플의 최대 길이 정하기, 시작 토큰과 종료 토큰 추가하기  \n",
        "- 정수 인코딩 : 단어 집합(vocabulary) 만들기 및 정수 인코딩\n",
        "패딩하기  \n",
        "- 모델 설계하기\n",
        " \n",
        "3. 어텐션 메커니즘 사용하기 (추상적 요약)  \n",
        "- 모델 훈련  \n",
        " \n",
        "4. 실제 결과와 요약문 비교하기 (추상적 요약)  \n",
        "- 인퍼런스 모델 구현하기  \n",
        "- 모델 테스트하기  \n",
        "- headlines 열 요약문과 추상적 요약 결과 비교  \n",
        " \n",
        "5. Summa을 이용해서 추출적 요약해보기  \n",
        "Summa의 summarize를 사용하여 추출적 요약\n",
        "\n",
        "(3)애먹었던 부분\n",
        "- 마지막 추출적 요약에서 비어있는 곳이 많이 있었는데 데이터의 문제였다.\n",
        "- 전처리하지 않은 데이터를 사용해 주어야한다\n",
        "  - 추출적 요약 원문에서 중요한 핵심 문장 또는 단어구를 몇 개 뽑아서 이들로 구성된 요약문을 만드는 방법이다. 추출적 요약의 결과로 나온 요약문의 문장이나 단어구들은 전부 원문에 있는 문장들을 이용해야되기 때문에 전처리하지 않은 데이터를 사용해야 하는 것이다.\n",
        "\n",
        "> 추출적 요약에서 문장을 요약  \n",
        " <적절한 비율 찾기>\n",
        "- 비율을 적게 주어서 요약문으로 선택되는 문장의 개수를 줄이려고 여러 수치를 넣었다.\n",
        "- 결과적으로 원문의 약0.335%이상을 출력하는 것이 잘 나오는 것을 알 수 있었다.(약0.335% 밑의 비율로는 출력이 되지않음)  \n",
        "<단어선택>  \n",
        "- 1500번째 문장은 11개의 단어까지 요약이 가능했지만 10단어로 줄이니 요약문장이 나오지 않았다\n"
      ],
      "metadata": {
        "id": "MD5ccj-6VTqX"
      }
    },
    {
      "cell_type": "markdown",
      "source": [
        "## Reference\n",
        "\n",
        "- https://wikidocs.net/72820\n",
        "- https://velog.io/@yenaryu/Project-%EB%89%B4%EC%8A%A4-%EC%9A%94%EC%95%BD%EB%B4%87-%EB%A7%8C%EB%93%A4%EA%B8%B0"
      ],
      "metadata": {
        "id": "X8Z3SNVxYZ3U"
      }
    },
    {
      "cell_type": "code",
      "source": [],
      "metadata": {
        "id": "n6PT6erTkQxq"
      },
      "execution_count": null,
      "outputs": []
    }
  ]
}