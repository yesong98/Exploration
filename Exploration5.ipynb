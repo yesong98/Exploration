{
  "nbformat": 4,
  "nbformat_minor": 0,
  "metadata": {
    "colab": {
      "name": "Exploration5.ipynb",
      "provenance": [],
      "collapsed_sections": [],
      "mount_file_id": "1PSMNCFw7d6CKpmNbGLBy5nGZEqnZyTZi",
      "authorship_tag": "ABX9TyNdw0tEFQyiz59gPIZe8bOZ",
      "include_colab_link": true
    },
    "kernelspec": {
      "name": "python3",
      "display_name": "Python 3"
    },
    "language_info": {
      "name": "python"
    }
  },
  "cells": [
    {
      "cell_type": "markdown",
      "metadata": {
        "id": "view-in-github",
        "colab_type": "text"
      },
      "source": [
        "<a href=\"https://colab.research.google.com/github/yesong98/Exploration/blob/main/Exploration5.ipynb\" target=\"_parent\"><img src=\"https://colab.research.google.com/assets/colab-badge.svg\" alt=\"Open In Colab\"/></a>"
      ]
    },
    {
      "cell_type": "markdown",
      "source": [
        "# 인공지능과 가위바위보하기"
      ],
      "metadata": {
        "id": "3z5wLBOhKB6i"
      }
    },
    {
      "cell_type": "code",
      "source": [
        "import tensorflow as tf\n",
        "from tensorflow import keras\n",
        "\n",
        "import numpy as np\n",
        "import matplotlib.pyplot as plt\n",
        "import os\n",
        "\n",
        "\n",
        "print(tf.__version__)   # Tensorflow의 버전을 출력\n",
        "\n",
        "mnist = keras.datasets.mnist\n",
        "\n",
        "# MNIST 데이터를 로드. 다운로드하지 않았다면 다운로드까지 자동으로 진행됩니다. \n",
        "(x_train, y_train), (x_test, y_test) = mnist.load_data()   \n",
        "\n",
        "print(len(x_train))\n",
        "#print(tf.__version__)\n",
        "#print(np.__version__)"
      ],
      "metadata": {
        "colab": {
          "base_uri": "https://localhost:8080/"
        },
        "id": "DNMAL3Crq9Xj",
        "outputId": "480fcf8c-02f8-48ca-8289-61269d82f89a"
      },
      "execution_count": 256,
      "outputs": [
        {
          "output_type": "stream",
          "name": "stdout",
          "text": [
            "2.8.2\n",
            "60000\n"
          ]
        }
      ]
    },
    {
      "cell_type": "markdown",
      "source": [
        "## 데이터 불러오기 + Resize 하기"
      ],
      "metadata": {
        "id": "8rQzLh9c-iYE"
      }
    },
    {
      "cell_type": "code",
      "source": [
        "from google.colab import drive\n",
        "drive.mount('/content/drive')"
      ],
      "metadata": {
        "colab": {
          "base_uri": "https://localhost:8080/"
        },
        "id": "qV69umYBn-Zr",
        "outputId": "5ea2c57f-e228-417d-bd95-ebffb81c8ca7"
      },
      "execution_count": 270,
      "outputs": [
        {
          "output_type": "stream",
          "name": "stdout",
          "text": [
            "Drive already mounted at /content/drive; to attempt to forcibly remount, call drive.mount(\"/content/drive\", force_remount=True).\n"
          ]
        }
      ]
    },
    {
      "cell_type": "code",
      "source": [
        "from PIL import Image\n",
        "import glob\n",
        "import os\n",
        "\n",
        "print(\"PIL 라이브러리 import 완료!\")"
      ],
      "metadata": {
        "colab": {
          "base_uri": "https://localhost:8080/"
        },
        "id": "iLom8sofm1n1",
        "outputId": "d7695ced-5fa0-46b3-b670-6c176c994305"
      },
      "execution_count": 271,
      "outputs": [
        {
          "output_type": "stream",
          "name": "stdout",
          "text": [
            "PIL 라이브러리 import 완료!\n"
          ]
        }
      ]
    },
    {
      "cell_type": "code",
      "source": [
        "def resize_images(img_path):\n",
        "\timages=glob.glob(img_path + \"/*.jpg\")  \n",
        "    \n",
        "\tprint(len(images), \" images to be resized.\")\n",
        "\n",
        "    # 파일마다 모두 28x28 사이즈로 바꾸어 저장합니다.\n",
        "\ttarget_size=(28,28)\n",
        "\tfor img in images:\n",
        "\t\told_img=Image.open(img)\n",
        "\t\tnew_img=old_img.resize(target_size,Image.ANTIALIAS)\n",
        "\t\tnew_img.save(img, \"JPEG\")\n",
        "    \n",
        "\tprint(len(images), \" images resized.\")\n",
        "\t\n",
        "# 가위 이미지가 저장된 디렉토리 아래의 모든 jpg 파일을 읽어들여서\n",
        "image_dir_path = '/content/drive/MyDrive/aiffel/rock_scissor_paper/scissor'\n",
        "resize_images(image_dir_path)\n",
        "\n",
        "print(\"가위 이미지 resize 완료!\")\n",
        "\n",
        "# 바위 이미지가 저장된 디렉토리 아래의 모든 jpg 파일을 읽어들여서\n",
        "image_dir_path = '/content/drive/MyDrive/aiffel/rock_scissor_paper/rock'\n",
        "resize_images(image_dir_path)\n",
        "\n",
        "print(\"바위 이미지 resize 완료!\")\n",
        "\n",
        "# 보 이미지가 저장된 디렉토리 아래의 모든 jpg 파일을 읽어들여서\n",
        "image_dir_path = '/content/drive/MyDrive/aiffel/rock_scissor_paper/paper'\n",
        "resize_images(image_dir_path)\n",
        "\n",
        "print(\"보 이미지 resize 완료!\")"
      ],
      "metadata": {
        "colab": {
          "base_uri": "https://localhost:8080/"
        },
        "id": "VvHq_-sQnyKV",
        "outputId": "635a724b-20ad-4ed9-bab4-d51aa39f5b71"
      },
      "execution_count": 272,
      "outputs": [
        {
          "output_type": "stream",
          "name": "stdout",
          "text": [
            "100  images to be resized.\n",
            "100  images resized.\n",
            "가위 이미지 resize 완료!\n",
            "100  images to be resized.\n",
            "100  images resized.\n",
            "바위 이미지 resize 완료!\n",
            "100  images to be resized.\n",
            "100  images resized.\n",
            "보 이미지 resize 완료!\n"
          ]
        }
      ]
    },
    {
      "cell_type": "code",
      "source": [
        "import numpy as np\n",
        "\n",
        "def load_data(img_path, number_of_data=300):  # 가위바위보 이미지 개수 총합에 주의하세요.\n",
        "    # 가위 : 0, 바위 : 1, 보 : 2\n",
        "    img_size=28\n",
        "    color=3\n",
        "    #이미지 데이터와 라벨(가위 : 0, 바위 : 1, 보 : 2) 데이터를 담을 행렬(matrix) 영역을 생성합니다.\n",
        "    imgs=np.zeros(number_of_data*img_size*img_size*color,dtype=np.int32).reshape(number_of_data,img_size,img_size,color)\n",
        "    labels=np.zeros(number_of_data,dtype=np.int32)\n",
        "\n",
        "    idx=0\n",
        "    for file in glob.iglob('/content/drive/MyDrive/aiffel/rock_scissor_paper/scissor/*.jpg'):\n",
        "        img = np.array(Image.open(file),dtype=np.int32)\n",
        "        imgs[idx,:,:,:]=img    # 데이터 영역에 이미지 행렬을 복사\n",
        "        labels[idx]=0   # 가위 : 0\n",
        "        idx=idx+1\n",
        "\n",
        "    for file in glob.iglob('/content/drive/MyDrive/aiffel/rock_scissor_paper/rock/*.jpg'):\n",
        "        img = np.array(Image.open(file),dtype=np.int32)\n",
        "        imgs[idx,:,:,:]=img    # 데이터 영역에 이미지 행렬을 복사\n",
        "        labels[idx]=1   # 바위 : 1\n",
        "        idx=idx+1  \n",
        "    \n",
        "    for file in glob.iglob('/content/drive/MyDrive/aiffel/rock_scissor_paper/paper/*.jpg'):\n",
        "        img = np.array(Image.open(file),dtype=np.int32)\n",
        "        imgs[idx,:,:,:]=img    # 데이터 영역에 이미지 행렬을 복사\n",
        "        labels[idx]=2   # 보 : 2\n",
        "        idx=idx+1\n",
        "        \n",
        "    print(\"학습데이터(x_train)의 이미지 개수는\", idx,\"입니다.\")\n",
        "    return imgs, labels\n",
        "\n",
        "image_dir_path = '/content/drive/MyDrive/aiffel/rock_scissor_paper/paper'\n",
        "(x_train, y_train)=load_data(image_dir_path)\n",
        "x_train_norm = x_train/255.0   # 입력은 0~1 사이의 값으로 정규화\n",
        "\n",
        "print(\"x_train shape: {}\".format(x_train.shape))\n",
        "print(\"y_train shape: {}\".format(y_train.shape))"
      ],
      "metadata": {
        "colab": {
          "base_uri": "https://localhost:8080/"
        },
        "id": "5izLTH1qqodG",
        "outputId": "12497623-611b-4317-9c06-95c39944ea51"
      },
      "execution_count": 273,
      "outputs": [
        {
          "output_type": "stream",
          "name": "stdout",
          "text": [
            "학습데이터(x_train)의 이미지 개수는 300 입니다.\n",
            "x_train shape: (300, 28, 28, 3)\n",
            "y_train shape: (300,)\n"
          ]
        }
      ]
    },
    {
      "cell_type": "code",
      "source": [
        "plt.imshow(x_train[0])\n",
        "print('라벨: ', y_train[0])"
      ],
      "metadata": {
        "colab": {
          "base_uri": "https://localhost:8080/",
          "height": 283
        },
        "id": "0DGflHXeqwrD",
        "outputId": "8478d109-5ad7-4bf6-de85-278650c1b616"
      },
      "execution_count": 274,
      "outputs": [
        {
          "output_type": "stream",
          "name": "stdout",
          "text": [
            "라벨:  0\n"
          ]
        },
        {
          "output_type": "display_data",
          "data": {
            "text/plain": [
              "<Figure size 432x288 with 1 Axes>"
            ],
            "image/png": "[encoded data removed]"
          },
          "metadata": {
            "needs_background": "light"
          }
        }
      ]
    },
    {
      "cell_type": "markdown",
      "source": [
        "## 딥러닝 네트워크 설계하기\n",
        "-  가위바위보를 인식하는 딥러닝 네트워크를 설계해보기"
      ],
      "metadata": {
        "id": "ovZDPEvN-bBt"
      }
    },
    {
      "cell_type": "code",
      "source": [
        "import tensorflow as tf\n",
        "from tensorflow import keras\n",
        "import numpy as np\n",
        "\n",
        "# model을 직접 만들어 보세요.\n",
        "# Hint! model의 입력/출력부에 특히 유의해 주세요. 가위바위보 데이터셋은 MNIST 데이터셋과 어떤 점이 달라졌나요?\n",
        "model=keras.models.Sequential()\n",
        "model.add(keras.layers.Conv2D(300, (3,3), activation='relu', input_shape=(28,28,3)))\n",
        "model.add(keras.layers.MaxPool2D(2,2))\n",
        "model.add(keras.layers.Conv2D(200, (3,3), activation='relu'))\n",
        "model.add(keras.layers.MaxPooling2D((2,2)))\n",
        "model.add(keras.layers.Conv2D(200, (3,3), activation='relu'))\n",
        "model.add(keras.layers.MaxPooling2D((2,2)))\n",
        "model.add(keras.layers.Flatten())\n",
        "model.add(keras.layers.Dense(300, activation='relu'))\n",
        "model.add(keras.layers.Dense(3, activation='softmax'))\n",
        "\n",
        "\n",
        "model.summary()\n"
      ],
      "metadata": {
        "colab": {
          "base_uri": "https://localhost:8080/"
        },
        "id": "g5Avq5Akqy84",
        "outputId": "4cdf4883-aee6-4006-b31b-6ab87cca368e"
      },
      "execution_count": 275,
      "outputs": [
        {
          "output_type": "stream",
          "name": "stdout",
          "text": [
            "Model: \"sequential_32\"\n",
            "_________________________________________________________________\n",
            " Layer (type)                Output Shape              Param #   \n",
            "=================================================================\n",
            " conv2d_83 (Conv2D)          (None, 26, 26, 300)       8400      \n",
            "                                                                 \n",
            " max_pooling2d_83 (MaxPoolin  (None, 13, 13, 300)      0         \n",
            " g2D)                                                            \n",
            "                                                                 \n",
            " conv2d_84 (Conv2D)          (None, 11, 11, 200)       540200    \n",
            "                                                                 \n",
            " max_pooling2d_84 (MaxPoolin  (None, 5, 5, 200)        0         \n",
            " g2D)                                                            \n",
            "                                                                 \n",
            " conv2d_85 (Conv2D)          (None, 3, 3, 200)         360200    \n",
            "                                                                 \n",
            " max_pooling2d_85 (MaxPoolin  (None, 1, 1, 200)        0         \n",
            " g2D)                                                            \n",
            "                                                                 \n",
            " flatten_32 (Flatten)        (None, 200)               0         \n",
            "                                                                 \n",
            " dense_64 (Dense)            (None, 300)               60300     \n",
            "                                                                 \n",
            " dense_65 (Dense)            (None, 3)                 903       \n",
            "                                                                 \n",
            "=================================================================\n",
            "Total params: 970,003\n",
            "Trainable params: 970,003\n",
            "Non-trainable params: 0\n",
            "_________________________________________________________________\n"
          ]
        }
      ]
    },
    {
      "cell_type": "markdown",
      "source": [
        "## 딥러닝 네트워크 학습시키기"
      ],
      "metadata": {
        "id": "-HWVpw6H_vV7"
      }
    },
    {
      "cell_type": "code",
      "source": [
        "model.compile(optimizer='adam',\n",
        "             loss='sparse_categorical_crossentropy',\n",
        "             metrics=['accuracy'])\n",
        "\n",
        "model.fit(x_train_norm, y_train, epochs=10)"
      ],
      "metadata": {
        "colab": {
          "base_uri": "https://localhost:8080/"
        },
        "id": "z3DpgyOb_qYf",
        "outputId": "12928939-af31-41e4-bafd-a60d0c487304"
      },
      "execution_count": 276,
      "outputs": [
        {
          "output_type": "stream",
          "name": "stdout",
          "text": [
            "Epoch 1/10\n",
            "10/10 [==============================] - 4s 337ms/step - loss: 1.1101 - accuracy: 0.3233\n",
            "Epoch 2/10\n",
            "10/10 [==============================] - 3s 335ms/step - loss: 0.9893 - accuracy: 0.5167\n",
            "Epoch 3/10\n",
            "10/10 [==============================] - 3s 333ms/step - loss: 0.6446 - accuracy: 0.7633\n",
            "Epoch 4/10\n",
            "10/10 [==============================] - 4s 369ms/step - loss: 0.4209 - accuracy: 0.7600\n",
            "Epoch 5/10\n",
            "10/10 [==============================] - 3s 333ms/step - loss: 0.2957 - accuracy: 0.9100\n",
            "Epoch 6/10\n",
            "10/10 [==============================] - 3s 331ms/step - loss: 0.2207 - accuracy: 0.9067\n",
            "Epoch 7/10\n",
            "10/10 [==============================] - 3s 334ms/step - loss: 0.1122 - accuracy: 0.9700\n",
            "Epoch 8/10\n",
            "10/10 [==============================] - 3s 336ms/step - loss: 0.0570 - accuracy: 0.9967\n",
            "Epoch 9/10\n",
            "10/10 [==============================] - 3s 336ms/step - loss: 0.0491 - accuracy: 0.9900\n",
            "Epoch 10/10\n",
            "10/10 [==============================] - 3s 331ms/step - loss: 0.0137 - accuracy: 0.9933\n"
          ]
        },
        {
          "output_type": "execute_result",
          "data": {
            "text/plain": [
              "<keras.callbacks.History at 0x7f6e5fa38490>"
            ]
          },
          "metadata": {},
          "execution_count": 276
        }
      ]
    },
    {
      "cell_type": "markdown",
      "source": [
        "## 잘 만들었는지 확인하기(테스트)"
      ],
      "metadata": {
        "id": "sBVChFACBPDd"
      }
    },
    {
      "cell_type": "code",
      "source": [
        "\t# 가위 이미지가 저장된 디렉토리 아래의 모든 jpg 파일을 읽어들여서\n",
        "image_dir_path = '/content/drive/MyDrive/aiffel/rock_scissor_paper/SBS/scissor'\n",
        "resize_images(image_dir_path)\n",
        "\n",
        "print(\"가위 이미지 resize 완료!\")\n",
        "\n",
        "# 바위 이미지가 저장된 디렉토리 아래의 모든 jpg 파일을 읽어들여서\n",
        "image_dir_path = '/content/drive/MyDrive/aiffel/rock_scissor_paper/jumi_rcp/rock'\n",
        "resize_images(image_dir_path)\n",
        "\n",
        "print(\"바위 이미지 resize 완료!\")\n",
        "\n",
        "# 보 이미지가 저장된 디렉토리 아래의 모든 jpg 파일을 읽어들여서\n",
        "image_dir_path = '/content/drive/MyDrive/aiffel/rock_scissor_paper/paper'\n",
        "resize_images(image_dir_path)\n",
        "\n",
        "print(\"보 이미지 resize 완료!\")"
      ],
      "metadata": {
        "colab": {
          "base_uri": "https://localhost:8080/"
        },
        "id": "X2eSs2wTG4H0",
        "outputId": "10ec2ad4-137b-401a-fe14-f64837233aa0"
      },
      "execution_count": 277,
      "outputs": [
        {
          "output_type": "stream",
          "name": "stdout",
          "text": [
            "100  images to be resized.\n",
            "100  images resized.\n",
            "가위 이미지 resize 완료!\n",
            "100  images to be resized.\n",
            "100  images resized.\n",
            "바위 이미지 resize 완료!\n",
            "100  images to be resized.\n",
            "100  images resized.\n",
            "보 이미지 resize 완료!\n"
          ]
        }
      ]
    },
    {
      "cell_type": "code",
      "source": [
        "#테스트 데이터셋의 크기를 28 x 28로 변경\n",
        "resize_images(\"/content/drive/MyDrive/aiffel/rock_scissor_paper/SBS/scissor\")\n",
        "resize_images(\"/content/drive/MyDrive/aiffel/rock_scissor_paper/jumi_rcp/rock\")\n",
        "resize_images(\"/content/drive/MyDrive/aiffel/rock_scissor_paper/paper\")"
      ],
      "metadata": {
        "colab": {
          "base_uri": "https://localhost:8080/"
        },
        "id": "vGdwoP6rCh7l",
        "outputId": "b86fc4e7-ebcf-4314-d326-0b5b3e613541"
      },
      "execution_count": 278,
      "outputs": [
        {
          "output_type": "stream",
          "name": "stdout",
          "text": [
            "100  images to be resized.\n",
            "100  images resized.\n",
            "100  images to be resized.\n",
            "100  images resized.\n",
            "100  images to be resized.\n",
            "100  images resized.\n"
          ]
        }
      ]
    },
    {
      "cell_type": "code",
      "source": [
        "def load_data(img_path, number_of_data=300):  # 가위바위보 이미지 개수 총합에 주의하세요.\n",
        "    # 가위 : 0, 바위 : 1, 보 : 2\n",
        "    img_size=28\n",
        "    color=3\n",
        "    #이미지 데이터와 라벨(가위 : 0, 바위 : 1, 보 : 2) 데이터를 담을 행렬(matrix) 영역을 생성합니다.\n",
        "    imgs=np.zeros(number_of_data*img_size*img_size*color,dtype=np.int32).reshape(number_of_data,img_size,img_size,color)\n",
        "    labels=np.zeros(number_of_data,dtype=np.int32)\n",
        "\n",
        "    idx=0\n",
        "    for file in glob.iglob('/content/drive/MyDrive/aiffel/rock_scissor_paper/SBS/scissor/*.jpg'):\n",
        "        img = np.array(Image.open(file),dtype=np.int32)\n",
        "        imgs[idx,:,:,:]=img    # 데이터 영역에 이미지 행렬을 복사\n",
        "        labels[idx]=0   # 가위 : 0\n",
        "        idx=idx+1\n",
        "\n",
        "    for file in glob.iglob('/content/drive/MyDrive/aiffel/rock_scissor_paper/jumi_rcp/rock/*.jpg'):\n",
        "        img = np.array(Image.open(file),dtype=np.int32)\n",
        "        imgs[idx,:,:,:]=img    # 데이터 영역에 이미지 행렬을 복사\n",
        "        labels[idx]=1   # 바위 : 1\n",
        "        idx=idx+1  \n",
        "    \n",
        "    for file in glob.iglob('/content/drive/MyDrive/aiffel/rock_scissor_paper/paper/*.jpg'):\n",
        "        img = np.array(Image.open(file),dtype=np.int32)\n",
        "        imgs[idx,:,:,:]=img    # 데이터 영역에 이미지 행렬을 복사\n",
        "        labels[idx]=2   # 보 : 2\n",
        "        idx=idx+1\n",
        "        \n",
        "    print(\"테스트데이터(x_test)의 이미지 개수는\", idx,\"입니다.\")\n",
        "    return imgs, labels\n",
        "\n",
        "#테스트 데이터의 각 요소 값을 0 ~ 1 사이로 정규화\n",
        "image_dir_path = '/content/drive/MyDrive/aiffel/rock_scissor_paper/jumi_rcp/paper/'\n",
        "(x_test, y_test)=load_data(image_dir_path)\n",
        "x_test_norm = x_test/255.0  \n",
        "\n",
        "print(\"x_test shape: {}\".format(x_test.shape))\n",
        "print(\"y_test shape: {}\".format(y_test.shape))"
      ],
      "metadata": {
        "colab": {
          "base_uri": "https://localhost:8080/"
        },
        "id": "FhyozA1zIAgg",
        "outputId": "fa2ed8f6-75b3-4d07-f703-74f4da5745db"
      },
      "execution_count": 279,
      "outputs": [
        {
          "output_type": "stream",
          "name": "stdout",
          "text": [
            "테스트데이터(x_test)의 이미지 개수는 300 입니다.\n",
            "x_test shape: (300, 28, 28, 3)\n",
            "y_test shape: (300,)\n"
          ]
        }
      ]
    },
    {
      "cell_type": "code",
      "source": [
        "plt.imshow(x_test[0])\n",
        "print('라벨: ', y_test[0])"
      ],
      "metadata": {
        "colab": {
          "base_uri": "https://localhost:8080/",
          "height": 283
        },
        "id": "tg0tvHFINCqs",
        "outputId": "8a027cdb-19cc-46d1-e01c-7bd400d1e0d6"
      },
      "execution_count": 280,
      "outputs": [
        {
          "output_type": "stream",
          "name": "stdout",
          "text": [
            "라벨:  0\n"
          ]
        },
        {
          "output_type": "display_data",
          "data": {
            "text/plain": [
              "<Figure size 432x288 with 1 Axes>"
            ],
            "image/png": "[encoded data removed]"
          },
          "metadata": {
            "needs_background": "light"
          }
        }
      ]
    },
    {
      "cell_type": "code",
      "source": [
        "n_channel_1=50  \n",
        "n_channel_2=100\n",
        "n_dense=100\n",
        "n_train_epoch=15\n",
        "\n",
        "model=keras.models.Sequential()\n",
        "model.add(keras.layers.Conv2D(n_channel_1, (3,3), activation='relu', input_shape=(28,28,3)))\n",
        "model.add(keras.layers.MaxPool2D(2,2))\n",
        "model.add(keras.layers.Conv2D(n_channel_2, (3,3), activation='relu'))\n",
        "model.add(keras.layers.MaxPooling2D((2,2)))\n",
        "model.add(keras.layers.Flatten())\n",
        "model.add(keras.layers.Dense(n_dense, activation='relu'))\n",
        "model.add(keras.layers.Dense(3, activation='softmax'))\n",
        "\n",
        "model.summary()\n",
        "model.compile(optimizer='adam',\n",
        "             loss='sparse_categorical_crossentropy',\n",
        "             metrics=['accuracy'])\n",
        "# 모델 훈련\n",
        "model.fit(x_train_norm, y_train, epochs=n_train_epoch)\n",
        "\n",
        "# 모델 시험\n",
        "test_loss, test_accuracy = model.evaluate(x_test_norm, y_test, verbose=2)\n",
        "print(\"test_loss: {} \".format(test_loss))\n",
        "print(\"test_accuracy: {}\".format(test_accuracy))"
      ],
      "metadata": {
        "colab": {
          "base_uri": "https://localhost:8080/"
        },
        "id": "o2dJqxrsANN-",
        "outputId": "3e2bb8bc-f33d-456d-8f17-f25cecd30a3f"
      },
      "execution_count": 281,
      "outputs": [
        {
          "output_type": "stream",
          "name": "stdout",
          "text": [
            "Model: \"sequential_33\"\n",
            "_________________________________________________________________\n",
            " Layer (type)                Output Shape              Param #   \n",
            "=================================================================\n",
            " conv2d_86 (Conv2D)          (None, 26, 26, 50)        1400      \n",
            "                                                                 \n",
            " max_pooling2d_86 (MaxPoolin  (None, 13, 13, 50)       0         \n",
            " g2D)                                                            \n",
            "                                                                 \n",
            " conv2d_87 (Conv2D)          (None, 11, 11, 100)       45100     \n",
            "                                                                 \n",
            " max_pooling2d_87 (MaxPoolin  (None, 5, 5, 100)        0         \n",
            " g2D)                                                            \n",
            "                                                                 \n",
            " flatten_33 (Flatten)        (None, 2500)              0         \n",
            "                                                                 \n",
            " dense_66 (Dense)            (None, 100)               250100    \n",
            "                                                                 \n",
            " dense_67 (Dense)            (None, 3)                 303       \n",
            "                                                                 \n",
            "=================================================================\n",
            "Total params: 296,903\n",
            "Trainable params: 296,903\n",
            "Non-trainable params: 0\n",
            "_________________________________________________________________\n",
            "Epoch 1/15\n",
            "10/10 [==============================] - 1s 49ms/step - loss: 0.9016 - accuracy: 0.5967\n",
            "Epoch 2/15\n",
            "10/10 [==============================] - 1s 53ms/step - loss: 0.3583 - accuracy: 0.9367\n",
            "Epoch 3/15\n",
            "10/10 [==============================] - 0s 47ms/step - loss: 0.1283 - accuracy: 0.9567\n",
            "Epoch 4/15\n",
            "10/10 [==============================] - 0s 49ms/step - loss: 0.0465 - accuracy: 0.9867\n",
            "Epoch 5/15\n",
            "10/10 [==============================] - 0s 48ms/step - loss: 0.0158 - accuracy: 1.0000\n",
            "Epoch 6/15\n",
            "10/10 [==============================] - 1s 51ms/step - loss: 0.0054 - accuracy: 1.0000\n",
            "Epoch 7/15\n",
            "10/10 [==============================] - 0s 50ms/step - loss: 0.0036 - accuracy: 1.0000\n",
            "Epoch 8/15\n",
            "10/10 [==============================] - 1s 52ms/step - loss: 0.0021 - accuracy: 1.0000\n",
            "Epoch 9/15\n",
            "10/10 [==============================] - 0s 48ms/step - loss: 0.0015 - accuracy: 1.0000\n",
            "Epoch 10/15\n",
            "10/10 [==============================] - 0s 48ms/step - loss: 0.0010 - accuracy: 1.0000\n",
            "Epoch 11/15\n",
            "10/10 [==============================] - 1s 50ms/step - loss: 8.6810e-04 - accuracy: 1.0000\n",
            "Epoch 12/15\n",
            "10/10 [==============================] - 0s 48ms/step - loss: 6.8231e-04 - accuracy: 1.0000\n",
            "Epoch 13/15\n",
            "10/10 [==============================] - 1s 52ms/step - loss: 5.9488e-04 - accuracy: 1.0000\n",
            "Epoch 14/15\n",
            "10/10 [==============================] - 0s 49ms/step - loss: 5.4408e-04 - accuracy: 1.0000\n",
            "Epoch 15/15\n",
            "10/10 [==============================] - 1s 52ms/step - loss: 4.9320e-04 - accuracy: 1.0000\n",
            "10/10 - 0s - loss: 1.8799 - accuracy: 0.6300 - 258ms/epoch - 26ms/step\n",
            "test_loss: 1.8799288272857666 \n",
            "test_accuracy: 0.6299999952316284\n"
          ]
        }
      ]
    },
    {
      "cell_type": "markdown",
      "source": [
        "# 회고\n",
        "1. 과정  \n",
        "train data는 내가 찍은 데이터를 사용하고 test data는 조원 데이터중 Rock은 주미님 데이터에서, paper는 나의 데이터에서, scissor는 성보님 데이터를 가져와 테스트해보았다. 배경이 누가 찍었느냐에 따라 다르고 사람의 손 크기도 다르다고 생각되어 다양한 테스트를 통해 정확도를 알아보고싶었다. \n",
        "처음 넣은 값으로는 정확성이 높지 않아 n_channel_1=50, n_channel_2=100, n_dense=100, n_train_epoch=15로 값을 변경하고 난 후 test accuracy가 62%로 나왔다. \n",
        "\n",
        "2. 개념\n",
        "이번 exploration에서 가져갈 개념은 2d 컨볼루션이다.   \n",
        "- Conv2D 레이어의 첫 번째 인자는 사용하는 이미지 특징의 수이다. \n",
        "- Dense 레이어의 첫 번째 인자는 분류기에 사용되는 뉴런의 숫자 이다. \n",
        "- 값이 클수록 보다 복잡한 분류기를 만들 수 있다.\n",
        "- 마지막 Dense 레이어의 뉴런 숫자는 결과적으로 분류해 내야 하는 클래스 수로 지정한다 \n",
        "\n",
        "3. 분류모델의 test accuracy = 62.99%"
      ],
      "metadata": {
        "id": "DUXmZh8-SOGt"
      }
    }
  ]
}