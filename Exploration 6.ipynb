{
 "cells": [
  {
   "cell_type": "markdown",
   "id": "3570c706",
   "metadata": {},
   "source": [
    "# EX6. 작사가 인공지능 만들기"
   ]
  },
  {
   "cell_type": "markdown",
   "id": "be3ab8fb",
   "metadata": {},
   "source": [
    "루브릭\n",
    "1. 가사 텍스트 생성 모델이 정상적으로 동작하는가?  \n",
    "텍스트 제너레이션 결과가 그럴듯한 문장으로 생성되는가?\n",
    "2. 데이터의 전처리와 데이터셋 구성 과정이 체계적으로 진행되었는가?  \n",
    "특수문자 제거, 토크나이저 생성, 패딩처리 등의 과정이 빠짐없이 진행되었는가?\n",
    "3. 텍스트 생성모델이 안정적으로 학습되었는가?  \n",
    "텍스트 생성모델의 validation loss가 2.2 이하로 낮아졌는가?"
   ]
  },
  {
   "cell_type": "markdown",
   "id": "3c813e50",
   "metadata": {},
   "source": [
    "## 데이터 읽어오기"
   ]
  },
  {
   "cell_type": "code",
   "execution_count": 22,
   "id": "291994cc",
   "metadata": {},
   "outputs": [
    {
     "name": "stdout",
     "output_type": "stream",
     "text": [
      "데이터 크기: 187088\n",
      "Examples:\n",
      " [\"Now I've heard there was a secret chord\", 'That David played, and it pleased the Lord', \"But you don't really care for music, do you?\"]\n"
     ]
    }
   ],
   "source": [
    "import re    \n",
    "import glob\n",
    "import numpy as np         \n",
    "import tensorflow as tf    \n",
    "import os\n",
    "\n",
    "txt_file_path = os.getenv('HOME')+'/aiffel/lyricist/data/lyrics/*'\n",
    "\n",
    "txt_list = glob.glob(txt_file_path)\n",
    "\n",
    "raw_corpus = []\n",
    "\n",
    "for txt_file in txt_list:\n",
    "    with open(txt_file, \"r\") as f:\n",
    "        raw = f.read().splitlines()\n",
    "        raw_corpus.extend(raw)\n",
    "\n",
    "print(\"데이터 크기:\", len(raw_corpus))\n",
    "print(\"Examples:\\n\", raw_corpus[:3])"
   ]
  },
  {
   "cell_type": "code",
   "execution_count": 23,
   "id": "723d2252",
   "metadata": {},
   "outputs": [
    {
     "name": "stdout",
     "output_type": "stream",
     "text": [
      "Now I've heard there was a secret chord\n",
      "That David played, and it pleased the Lord\n",
      "But you don't really care for music, do you?\n",
      "It goes like this\n",
      "The fourth, the fifth\n",
      "The minor fall, the major lift\n",
      "The baffled king composing Hallelujah Hallelujah\n",
      "Hallelujah\n",
      "Hallelujah\n",
      "Hallelujah Your faith was strong but you needed proof\n"
     ]
    }
   ],
   "source": [
    "\n",
    "for idx, sentence in enumerate(raw_corpus):\n",
    "    # 길이가 0이면 패스\n",
    "    if len(sentence) == 0: continue\n",
    "    # 길이가 15이상이면 패스\n",
    "    if len(sentence.split()) >= 13: continue \n",
    "    # 문장의 끝이 :이면 패스\n",
    "    if sentence[-1] == \":\": continue \n",
    "    #10개 문장 보기\n",
    "    if idx >9: break \n",
    "        \n",
    "    print(sentence)"
   ]
  },
  {
   "cell_type": "markdown",
   "id": "914a965b",
   "metadata": {},
   "source": [
    "## 데이터 정제"
   ]
  },
  {
   "cell_type": "code",
   "execution_count": 24,
   "id": "4988f149",
   "metadata": {},
   "outputs": [
    {
     "name": "stdout",
     "output_type": "stream",
     "text": [
      "<start> this is sample sentence . <end>\n"
     ]
    }
   ],
   "source": [
    "def preprocess_sentence(sentence):\n",
    "    sentence = sentence.lower().strip() # 1\n",
    "    sentence = re.sub(r\"([?.!,¿])\", r\" \\1 \", sentence) # 2\n",
    "    sentence = re.sub(r'[\" \"]+', \" \", sentence) # 3\n",
    "    sentence = re.sub(r\"[^a-zA-Z?.!,¿]+\", \" \", sentence) # 4\n",
    "    sentence = sentence.strip() # 5\n",
    "    sentence = '<start> ' + sentence + ' <end>' # 6\n",
    "    return sentence\n",
    "#어떻게 필터링 되는지 확인\n",
    "print(preprocess_sentence(\"This @_is ;;;sample        sentence.\"))"
   ]
  },
  {
   "cell_type": "markdown",
   "id": "0af2b349",
   "metadata": {},
   "source": [
    "단어별로 토근화 할 필요가 있습니다. 컴퓨터는 문장을 문장으로보지않고 숫자로 봐야하기 때문에 토큰화 라는것을 해야하는데 토큰화 라고 하면 단어 하나에 숫자를 매칭시켜주는 개념입니다."
   ]
  },
  {
   "cell_type": "code",
   "execution_count": 25,
   "id": "1e51c7cd",
   "metadata": {},
   "outputs": [
    {
     "data": {
      "text/plain": [
       "['<start> now i ve heard there was a secret chord <end>',\n",
       " '<start> that david played , and it pleased the lord <end>',\n",
       " '<start> but you don t really care for music , do you ? <end>',\n",
       " '<start> it goes like this <end>',\n",
       " '<start> the fourth , the fifth <end>',\n",
       " '<start> the minor fall , the major lift <end>',\n",
       " '<start> the baffled king composing hallelujah hallelujah <end>',\n",
       " '<start> hallelujah <end>',\n",
       " '<start> hallelujah <end>',\n",
       " '<start> hallelujah your faith was strong but you needed proof <end>']"
      ]
     },
     "execution_count": 25,
     "metadata": {},
     "output_type": "execute_result"
    }
   ],
   "source": [
    "corpus = []\n",
    "\n",
    "for sentence in raw_corpus:\n",
    "    if len(sentence) == 0: continue\n",
    "    if sentence[-1] == \":\": continue\n",
    "        \n",
    "    corpus.append(preprocess_sentence(sentence))\n",
    "        \n",
    "corpus[:10]"
   ]
  },
  {
   "cell_type": "code",
   "execution_count": 26,
   "id": "9be7a952",
   "metadata": {},
   "outputs": [
    {
     "name": "stdout",
     "output_type": "stream",
     "text": [
      "[[   2   50    5 ...    0    0    0]\n",
      " [   2   17 2639 ...    0    0    0]\n",
      " [   2   36    7 ...    0    0    0]\n",
      " ...\n",
      " [   2  130    5 ...    0    0    0]\n",
      " [ 287   79  162 ...  877  647    3]\n",
      " [   2    7   34 ...    0    0    0]] <keras_preprocessing.text.Tokenizer object at 0x7f599f2c1e80>\n"
     ]
    }
   ],
   "source": [
    "def tokenize(corpus):\n",
    "    # 텐서플로의 토크마이저를 이용해서 12000개 단어 개수를 숫자로 바꾼다\n",
    "    tokenizer = tf.keras.preprocessing.text.Tokenizer(\n",
    "        # 전체 단어의 개수 \n",
    "        num_words=12000,  \n",
    "        #이 함수에서 제공하는 문장 전처리 (하지만 우린 이미 진행해서 사용안함)\n",
    "        filters=' ',   \n",
    "        #12000단어에 속하지 않으면 unk로 바꾼다\n",
    "        oov_token=\"<unk>\" \n",
    "    )\n",
    "    #위에서 만든 문장을 토크마이저에 넣어 데이터를 구축한다.\n",
    "    tokenizer.fit_on_texts(corpus)\n",
    "    tensor = tokenizer.texts_to_sequences(corpus) \n",
    "\t\n",
    "    #문장의 길이를 맞추고 숫자로 반환하기 위해 작업을 한다.\n",
    "    # 문장의 길이는 가장 긴 문장을 기준으로 pandding한다.\n",
    "    #여기서 maxien을 설정해 주었는데 이상치에 대응하기 할 수 있다.\n",
    "    total_data_text = list(tensor)\n",
    "    num_tokens = [len(tokens) for tokens in total_data_text]\n",
    "    max_tokens = np.mean(num_tokens) + 2 * np.std(num_tokens)\n",
    "    maxlen = int(max_tokens)\n",
    "    \n",
    "    tensor = tf.keras.preprocessing.sequence.pad_sequences(tensor, \n",
    "                                                           padding='post',\n",
    "                                                          maxlen=maxlen)  \n",
    "\n",
    "    print(tensor,tokenizer)\n",
    "    return tensor, tokenizer\n",
    "\n",
    "tensor, tokenizer = tokenize(corpus)"
   ]
  },
  {
   "cell_type": "code",
   "execution_count": 27,
   "id": "0a0dd58f",
   "metadata": {},
   "outputs": [
    {
     "name": "stdout",
     "output_type": "stream",
     "text": [
      "1 : <unk>\n",
      "2 : <start>\n",
      "3 : <end>\n",
      "4 : ,\n",
      "5 : i\n",
      "6 : the\n",
      "7 : you\n",
      "8 : and\n",
      "9 : a\n",
      "10 : to\n"
     ]
    }
   ],
   "source": [
    "for idx in tokenizer.index_word:\n",
    "    print(idx, \":\", tokenizer.index_word[idx])\n",
    "\n",
    "    if idx > 9: break"
   ]
  },
  {
   "cell_type": "code",
   "execution_count": 28,
   "id": "53586c99",
   "metadata": {},
   "outputs": [
    {
     "name": "stdout",
     "output_type": "stream",
     "text": [
      "[   2   50    5   91  297   65   57    9  969 6042    3    0    0    0\n",
      "    0    0    0    0    0]\n",
      "[  50    5   91  297   65   57    9  969 6042    3    0    0    0    0\n",
      "    0    0    0    0    0]\n"
     ]
    }
   ],
   "source": [
    "#마지막 토큰을 잘라냅니다. 위에서 end라고 설정했지만 문장 길이 상 pad인 것이 많을 것이다\n",
    "src_input = tensor[:, :-1]\n",
    "#앞에 start부분을 자른다 \n",
    "tgt_input = tensor[:, 1:]\n",
    "print(src_input[0])\n",
    "print(tgt_input[0])"
   ]
  },
  {
   "cell_type": "markdown",
   "id": "e9391ea6",
   "metadata": {},
   "source": [
    "## 평가 데이터셋 분리"
   ]
  },
  {
   "cell_type": "code",
   "execution_count": 30,
   "id": "2a401ada",
   "metadata": {},
   "outputs": [],
   "source": [
    "from sklearn.model_selection import train_test_split\n",
    "enc_train, enc_val, dec_train, dec_val = train_test_split(src_input, \n",
    "                                                          tgt_input,\n",
    "                                                          test_size=0.2,\n",
    "                                                          shuffle=True, \n",
    "                                                          random_state=34)"
   ]
  },
  {
   "cell_type": "code",
   "execution_count": 31,
   "id": "7ad2e44d",
   "metadata": {},
   "outputs": [
    {
     "name": "stdout",
     "output_type": "stream",
     "text": [
      "Source Train:  (140599, 19)\n",
      "Target Train:  (140599, 19)\n"
     ]
    }
   ],
   "source": [
    "print('Source Train: ', enc_train.shape)\n",
    "print('Target Train: ', dec_train.shape)"
   ]
  },
  {
   "cell_type": "markdown",
   "id": "9da63674",
   "metadata": {},
   "source": [
    "## 인공지능 학습시키기"
   ]
  },
  {
   "cell_type": "code",
   "execution_count": 32,
   "id": "57dff6f6",
   "metadata": {},
   "outputs": [],
   "source": [
    "from tensorflow.keras.layers import Embedding, LSTM, Dense"
   ]
  },
  {
   "cell_type": "code",
   "execution_count": 33,
   "id": "a13b4a9b",
   "metadata": {},
   "outputs": [],
   "source": [
    "class TextGenerator(tf.keras.Model):\n",
    "    def __init__(self, vocab_size, embedding_size, hidden_size):\n",
    "        super(TextGenerator, self).__init__()\n",
    "        \n",
    "        self.embedding = Embedding(vocab_size, embedding_size)\n",
    "        self.rnn_1 = LSTM(hidden_size, return_sequences=True)\n",
    "        self.rnn_2 = LSTM(hidden_size, return_sequences=True)\n",
    "        self.linear = Dense(vocab_size)\n",
    "        \n",
    "    def call(self, x):\n",
    "        out = self.embedding(x)\n",
    "        out = self.rnn_1(out)\n",
    "        out = self.rnn_2(out)\n",
    "        out = self.linear(out)\n",
    "        \n",
    "        return out\n",
    "#문장을 토큰으로 했을 때 19이므로 19로 구성한다.\n",
    "embedding_size = 19\n",
    "hidden_size = 2048\n",
    "\n",
    "#여기서 tokenizer.num_words + 1를 했는데 그 이유는 문장에 없는 pad 가 넣어졌기 때문이다.\n",
    "#문장길이를 모두 통일 하기 위해 가장 긴문장 말고는 모든 토큰이 0으로 들어간 부분 때문이다.\n",
    "model = TextGenerator(tokenizer.num_words + 1, embedding_size , hidden_size)\n",
    "\n",
    "history = []\n",
    "epochs = 10\n",
    "\n",
    "optimizer = tf.keras.optimizers.Adam()\n",
    "\n",
    "loss = tf.keras.losses.SparseCategoricalCrossentropy(\n",
    "    from_logits=True,\n",
    "    reduction='none'\n",
    ")\n",
    "\n",
    "model.compile(loss=loss, optimizer=optimizer)"
   ]
  },
  {
   "cell_type": "code",
   "execution_count": 34,
   "id": "c7bb49b5",
   "metadata": {},
   "outputs": [],
   "source": [
    "BUFFER_SIZE = len(src_input)\n",
    "BATCH_SIZE = 256\n",
    "steps_per_epoch = len(src_input) // BATCH_SIZE\n",
    "\n",
    "VOCAB_SIZE = tokenizer.num_words + 1   \n",
    "\n",
    "dataset = tf.data.Dataset.from_tensor_slices((src_input, tgt_input))\n",
    "dataset = dataset.shuffle(BUFFER_SIZE)\n",
    "dataset = dataset.batch(BATCH_SIZE, drop_remainder=True)"
   ]
  },
  {
   "cell_type": "code",
   "execution_count": 35,
   "id": "95a43cce",
   "metadata": {},
   "outputs": [
    {
     "data": {
      "text/plain": [
       "<tf.Tensor: shape=(256, 19, 12001), dtype=float32, numpy=\n",
       "array([[[-6.02329528e-05, -3.88527042e-05,  7.48702878e-05, ...,\n",
       "          1.83227676e-05, -8.86932467e-05, -8.47930787e-05],\n",
       "        [-6.60758669e-05, -4.52957138e-05,  1.21789482e-04, ...,\n",
       "         -1.92138687e-05, -1.64179655e-04, -7.50133331e-05],\n",
       "        [-9.72159978e-05, -8.11441496e-05,  1.57814342e-04, ...,\n",
       "         -2.98157211e-05, -1.96023670e-04, -2.05848464e-05],\n",
       "        ...,\n",
       "        [-3.54337506e-04, -2.40719732e-04,  2.20272850e-04, ...,\n",
       "          5.15756574e-06,  3.52014642e-04,  5.66693023e-04],\n",
       "        [-4.35177004e-04, -2.59322493e-04,  2.88386655e-04, ...,\n",
       "         -2.31226768e-05,  4.86374716e-04,  6.84510742e-04],\n",
       "        [-5.13923063e-04, -2.74914171e-04,  3.46538873e-04, ...,\n",
       "         -3.99377241e-05,  5.92289027e-04,  7.83893513e-04]],\n",
       "\n",
       "       [[-6.02329528e-05, -3.88527042e-05,  7.48702878e-05, ...,\n",
       "          1.83227676e-05, -8.86932467e-05, -8.47930787e-05],\n",
       "        [-8.41820292e-05, -3.99129676e-05,  8.17745313e-05, ...,\n",
       "          5.07120567e-05, -1.58966228e-04, -1.56718655e-04],\n",
       "        [-5.64118127e-05, -6.70261797e-05,  1.93917891e-04, ...,\n",
       "          4.57177121e-05, -2.57552107e-04, -1.08783577e-04],\n",
       "        ...,\n",
       "        [ 2.75631552e-04, -1.24824743e-04,  1.01360070e-04, ...,\n",
       "          5.71095297e-05,  1.42229037e-04,  1.12143811e-04],\n",
       "        [ 1.59631134e-04, -1.00801888e-04,  1.72932836e-04, ...,\n",
       "         -3.09658535e-05,  2.89721444e-04,  2.60334316e-04],\n",
       "        [ 3.00508491e-05, -8.82745080e-05,  2.45583564e-04, ...,\n",
       "         -1.01387879e-04,  4.21487261e-04,  4.02549718e-04]],\n",
       "\n",
       "       [[-6.02329528e-05, -3.88527042e-05,  7.48702878e-05, ...,\n",
       "          1.83227676e-05, -8.86932467e-05, -8.47930787e-05],\n",
       "        [-8.41820292e-05, -3.99129676e-05,  8.17745313e-05, ...,\n",
       "          5.07120567e-05, -1.58966228e-04, -1.56718655e-04],\n",
       "        [-9.51895636e-05,  7.19579566e-06, -1.19406959e-05, ...,\n",
       "          3.83533006e-05, -1.99237242e-04, -2.03733362e-04],\n",
       "        ...,\n",
       "        [-5.63579029e-04, -1.58485971e-04,  2.50630779e-04, ...,\n",
       "          8.57984196e-05,  4.07670654e-04,  9.73926217e-04],\n",
       "        [-6.19220838e-04, -1.76429341e-04,  3.08160670e-04, ...,\n",
       "          8.40912835e-05,  4.72825195e-04,  1.04049325e-03],\n",
       "        [-6.68212015e-04, -1.91374813e-04,  3.58517806e-04, ...,\n",
       "          8.35938627e-05,  5.22041402e-04,  1.08969305e-03]],\n",
       "\n",
       "       ...,\n",
       "\n",
       "       [[ 1.28527163e-05, -3.72358008e-05,  1.22389911e-05, ...,\n",
       "          4.12568079e-05,  2.65841536e-05,  5.26904341e-06],\n",
       "        [ 5.07826589e-05, -8.63126115e-05,  3.81696445e-05, ...,\n",
       "          8.93776669e-05,  6.91402529e-05,  3.02614785e-06],\n",
       "        [ 1.14628965e-04, -1.32582572e-04,  7.66186859e-05, ...,\n",
       "          1.29665204e-04,  1.19054959e-04, -1.33489439e-05],\n",
       "        ...,\n",
       "        [ 6.60027377e-04,  1.80719744e-05,  6.06849964e-04, ...,\n",
       "         -3.01708264e-04, -4.03186132e-05, -4.28606174e-04],\n",
       "        [ 5.83504036e-04,  7.45719808e-05,  5.24987525e-04, ...,\n",
       "         -2.25751734e-04, -3.47959358e-05, -4.25034523e-04],\n",
       "        [ 5.24399744e-04,  1.58366602e-04,  4.52428911e-04, ...,\n",
       "         -2.00801936e-04, -2.80318382e-05, -3.52586416e-04]],\n",
       "\n",
       "       [[-6.02329528e-05, -3.88527042e-05,  7.48702878e-05, ...,\n",
       "          1.83227676e-05, -8.86932467e-05, -8.47930787e-05],\n",
       "        [-3.90321547e-05, -4.26843362e-05,  1.21083205e-04, ...,\n",
       "          5.02689318e-06, -1.76773639e-04, -1.46551771e-04],\n",
       "        [ 2.88082501e-05, -7.28973610e-05,  9.77567324e-05, ...,\n",
       "         -3.04850419e-05, -2.14821048e-04, -1.20968158e-04],\n",
       "        ...,\n",
       "        [-1.75807829e-04, -1.42751696e-06, -2.13301217e-04, ...,\n",
       "         -6.51958326e-05,  4.48288483e-04,  5.95140620e-04],\n",
       "        [-2.91872129e-04, -4.91882129e-05, -9.90435219e-05, ...,\n",
       "         -1.03202561e-04,  5.36821142e-04,  6.96525327e-04],\n",
       "        [-4.01653291e-04, -9.52264018e-05,  6.77083153e-06, ...,\n",
       "         -1.28120737e-04,  6.07162074e-04,  7.85674318e-04]],\n",
       "\n",
       "       [[-6.02329528e-05, -3.88527042e-05,  7.48702878e-05, ...,\n",
       "          1.83227676e-05, -8.86932467e-05, -8.47930787e-05],\n",
       "        [-7.98436085e-05, -4.22237317e-05,  9.25477216e-05, ...,\n",
       "         -3.84297964e-05, -1.06976237e-04, -9.82390848e-05],\n",
       "        [-1.08422078e-04, -7.15676069e-05,  1.11911933e-04, ...,\n",
       "         -5.63552021e-05, -1.07152795e-04, -6.25677276e-05],\n",
       "        ...,\n",
       "        [-2.19554960e-04, -7.82035640e-05,  8.20927889e-05, ...,\n",
       "         -1.03493825e-04,  6.69900983e-05,  3.21373547e-04],\n",
       "        [-3.36591998e-04, -1.14147384e-04,  1.41905228e-04, ...,\n",
       "         -1.64525176e-04,  2.31773403e-04,  4.74056462e-04],\n",
       "        [-4.49218322e-04, -1.49713102e-04,  2.00407041e-04, ...,\n",
       "         -2.02957744e-04,  3.78417812e-04,  6.12524105e-04]]],\n",
       "      dtype=float32)>"
      ]
     },
     "execution_count": 35,
     "metadata": {},
     "output_type": "execute_result"
    }
   ],
   "source": [
    "for src_sample, tgt_sample in dataset.take(1): break\n",
    "\n",
    "# 한 배치만 불러온 데이터를 모델에 넣기\n",
    "model(src_sample)"
   ]
  },
  {
   "cell_type": "code",
   "execution_count": 36,
   "id": "87463dfa",
   "metadata": {},
   "outputs": [
    {
     "name": "stdout",
     "output_type": "stream",
     "text": [
      "Model: \"text_generator\"\n",
      "_________________________________________________________________\n",
      "Layer (type)                 Output Shape              Param #   \n",
      "=================================================================\n",
      "embedding (Embedding)        multiple                  228019    \n",
      "_________________________________________________________________\n",
      "lstm (LSTM)                  multiple                  16941056  \n",
      "_________________________________________________________________\n",
      "lstm_1 (LSTM)                multiple                  33562624  \n",
      "_________________________________________________________________\n",
      "dense (Dense)                multiple                  24590049  \n",
      "=================================================================\n",
      "Total params: 75,321,748\n",
      "Trainable params: 75,321,748\n",
      "Non-trainable params: 0\n",
      "_________________________________________________________________\n"
     ]
    }
   ],
   "source": [
    "model.summary()"
   ]
  },
  {
   "cell_type": "code",
   "execution_count": 37,
   "id": "37207493",
   "metadata": {},
   "outputs": [
    {
     "name": "stdout",
     "output_type": "stream",
     "text": [
      "Epoch 1/10\n",
      "550/550 [==============================] - 364s 658ms/step - loss: 3.0027 - val_loss: 2.6649\n",
      "Epoch 2/10\n",
      "550/550 [==============================] - 363s 659ms/step - loss: 2.5493 - val_loss: 2.4778\n",
      "Epoch 3/10\n",
      "550/550 [==============================] - 363s 661ms/step - loss: 2.4010 - val_loss: 2.3892\n",
      "Epoch 4/10\n",
      "550/550 [==============================] - 363s 660ms/step - loss: 2.2914 - val_loss: 2.3164\n",
      "Epoch 5/10\n",
      "550/550 [==============================] - 363s 660ms/step - loss: 2.1998 - val_loss: 2.2672\n",
      "Epoch 6/10\n",
      "550/550 [==============================] - 363s 660ms/step - loss: 2.1159 - val_loss: 2.2304\n",
      "Epoch 7/10\n",
      "550/550 [==============================] - 363s 661ms/step - loss: 2.0354 - val_loss: 2.1862\n",
      "Epoch 8/10\n",
      "550/550 [==============================] - 363s 661ms/step - loss: 1.9572 - val_loss: 2.1542\n",
      "Epoch 9/10\n",
      "550/550 [==============================] - 363s 661ms/step - loss: 1.8822 - val_loss: 2.1269\n",
      "Epoch 10/10\n",
      "550/550 [==============================] - 364s 661ms/step - loss: 1.8102 - val_loss: 2.1040\n"
     ]
    }
   ],
   "source": [
    "history = model.fit(enc_train, \n",
    "          dec_train, \n",
    "          epochs=epochs,\n",
    "          batch_size=256,\n",
    "          validation_data=(enc_val, dec_val),\n",
    "          verbose=1)"
   ]
  },
  {
   "cell_type": "code",
   "execution_count": 50,
   "id": "9168eb77",
   "metadata": {},
   "outputs": [],
   "source": [
    "import matplotlib.pyplot as plt\n",
    "def plot_curve(epochs, hist, list_of_metrics):\n",
    "    \n",
    "    fig, ax = plt.subplots(1,2,figsize = (12, 8))\n",
    "    \n",
    "    for i in range(len(ax)):\n",
    "        ax[i].set_xlabel('Epochs')\n",
    "        ax[i].set_ylabel('Value')\n",
    "        \n",
    "        for n in range(len(list_of_metrics)):\n",
    "            if i == 0:\n",
    "                y = hist[list_of_metrics[n]]\n",
    "                if n == 0:\n",
    "                    ax[i].plot(epochs, y, label=\"train\")\n",
    "                else:\n",
    "                    ax[i].plot(epochs, y, label=\"val\")\n",
    "                ax[i].set_title('Loss')\n",
    "                ax[i].legend(loc='upper right')\n",
    "                if n == 1:\n",
    "                    break\n",
    "            else:\n",
    "                if n >= 2:\n",
    "                    y = hist[list_of_metrics[n]]\n",
    "                    if n == 2:\n",
    "                        ax[i].plot(epochs, y, label=\"train\")\n",
    "                    else:\n",
    "                        ax[i].plot(epochs, y, label=\"val\")\n",
    "                    ax[i].set_title('Accuracy')\n",
    "                    ax[i].legend(loc='lower right')\n",
    "                    \n",
    "    plt.show()"
   ]
  },
  {
   "cell_type": "code",
   "execution_count": 51,
   "id": "fb7944f2",
   "metadata": {},
   "outputs": [
    {
     "data": {
      "image/png": "[encoded data removed]",
      "text/plain": [
       "<Figure size 864x576 with 2 Axes>"
      ]
     },
     "metadata": {
      "needs_background": "light"
     },
     "output_type": "display_data"
    }
   ],
   "source": [
    "plot_curve(history.epoch, history.history, ['loss', 'val_loss'])"
   ]
  },
  {
   "cell_type": "code",
   "execution_count": 52,
   "id": "fa1d82ed",
   "metadata": {},
   "outputs": [],
   "source": [
    "def generate_text(model, tokenizer, init_sentence=\"<start>\", max_len=15):\n",
    "    # 테스트를 위해서 입력받은 init_sentence도 일단 텐서로 변환하기\n",
    "    test_input = tokenizer.texts_to_sequences([init_sentence])\n",
    "    test_tensor = tf.convert_to_tensor(test_input, dtype=tf.int64)\n",
    "    end_token = tokenizer.word_index[\"<end>\"]\n",
    "\n",
    "    # 텍스트를 실제로 생성할때는 루프를 돌면서 단어 하나씩 생성 \n",
    "    while True:\n",
    "        predict = model(test_tensor)  # 입력받은 문장의 텐서를 입력\n",
    "        predict_word = tf.argmax(tf.nn.softmax(predict, axis=-1), axis=-1)[:, -1]   # 우리 모델이 예측한 마지막 단어가 바로 새롭게 생성한 단어가 된다. \n",
    "\n",
    "        # 우리 모델이 새롭게 예측한 단어를 입력 문장의 뒤에 붙여 주기\n",
    "        test_tensor = tf.concat([test_tensor, \n",
    "                                                                 tf.expand_dims(predict_word, axis=0)], axis=-1)\n",
    "\n",
    "        # 우리 모델이 <END>를 예측했거나, max_len에 도달하지 않았다면  while 루프를 또 돌면서 다음 단어를 예측\n",
    "        if predict_word.numpy()[0] == end_token: break\n",
    "        if test_tensor.shape[1] >= max_len: break\n",
    "\n",
    "    generated = \"\"\n",
    "    # 생성된 tensor 안에 있는 word index를 tokenizer.index_word 사전을 통해 실제 단어로 하나씩 변환한다. \n",
    "    for word_index in test_tensor[0].numpy():\n",
    "        generated += tokenizer.index_word[word_index] + \" \"\n",
    "\n",
    "    return generated   # 이것이 최종적으로 모델이 생성한 자연어 문장이다."
   ]
  },
  {
   "cell_type": "code",
   "execution_count": 53,
   "id": "9201cdbf",
   "metadata": {},
   "outputs": [
    {
     "data": {
      "text/plain": [
       "'<start> i love you , i m not gonna crack <end> '"
      ]
     },
     "execution_count": 53,
     "metadata": {},
     "output_type": "execute_result"
    }
   ],
   "source": [
    "generate_text(model, tokenizer, init_sentence=\"<start> i love\", max_len=15)"
   ]
  },
  {
   "cell_type": "markdown",
   "id": "7fe05027",
   "metadata": {},
   "source": [
    "# 회고\n",
    "\n",
    "### 1)결과 \n",
    "embedding_size = 1024, hidden_size = 2048 을 했을 때 loss값은 떨어지고 val_loss값은 증가하는 overfitting현상이 일어났다. embedding_size = 19, hidden_size = 1024로 바꾼 후 다시 학습시킨 결과. val_loss값이 2.2이하인 2.1040까지 떨어지는 모습을 보였다.\n",
    "\n",
    "### 2) 개념\n",
    "(1)epoch\n",
    "- 한 번의 epoch는 인공 신경망에서 전체 데이터 셋에 대해 forward pass/backward pass 과정을 거친 것을 말함. 즉, 전체 데이터 셋에 대해 한 번 학습을 완료한 상태이다.  \n",
    "\n",
    "(2)batch size , iteration  \n",
    "- batch size는 한 번의 batch마다 주는 데이터 샘플의 size. 여기서 batch(보통 mini-batch라고 표현)는 나눠진 데이터 셋을 뜻하며 iteration는 epoch를 나누어서 실행하는 횟수라고 생각하면 된다. 이때 몇 번 나누어서 주는가를 iteration, 각 iteration마다 주는 데이터 사이즈를 batch size라고 한다.\n",
    "\n",
    "(3)embedding\n",
    "- Embedding 레이어는 입력으로 들어온 단어를 분산 표현으로 연결해 주는 역할을 하는데 그것이 Weight에서 특정 행을 읽어오는 것과 같아 이 레이어를 룩업 테이블(Lookup Table) 이라고 부르기도 합니다.  Embedding 레이어는 입력에 직접 연결되게 사용해야 한다는 것을 꼭 기억하기! 그리고 그 입력은 원-핫 인코딩된 단어 벡터의 형태일 때가 이상적입니다."
   ]
  }
 ],
 "metadata": {
  "kernelspec": {
   "display_name": "Python 3 (ipykernel)",
   "language": "python",
   "name": "python3"
  },
  "language_info": {
   "codemirror_mode": {
    "name": "ipython",
    "version": 3
   },
   "file_extension": ".py",
   "mimetype": "text/x-python",
   "name": "python",
   "nbconvert_exporter": "python",
   "pygments_lexer": "ipython3",
   "version": "3.9.7"
  }
 },
 "nbformat": 4,
 "nbformat_minor": 5
}
